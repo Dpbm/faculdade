{
  "nbformat": 4,
  "nbformat_minor": 0,
  "metadata": {
    "colab": {
      "provenance": []
    },
    "kernelspec": {
      "name": "python3",
      "display_name": "Python 3"
    },
    "language_info": {
      "name": "python"
    }
  },
  "cells": [
    {
      "cell_type": "code",
      "execution_count": null,
      "metadata": {
        "colab": {
          "base_uri": "https://localhost:8080/"
        },
        "id": "QeZZehBhK7Ou",
        "outputId": "1b4e7966-1fcb-47af-9745-99a38611b490"
      },
      "outputs": [
        {
          "output_type": "stream",
          "name": "stdout",
          "text": [
            "Desenhando botão. Aplicando tema claro.\n",
            "Desenhando botão. Aplicando tema escuro.\n",
            "Desenhando caixa de seleção. Aplicando tema de alto contraste.\n"
          ]
        }
      ],
      "source": [
        "from abc import ABC, abstractmethod\n",
        "\n",
        "# Interface Tema\n",
        "class Tema(ABC):\n",
        "    @abstractmethod\n",
        "    def aplicar_tema(self):\n",
        "        pass\n",
        "\n",
        "# Implementações de Tema\n",
        "class TemaClaro(Tema):\n",
        "    def aplicar_tema(self):\n",
        "        return \"Aplicando tema claro.\"\n",
        "\n",
        "class TemaEscuro(Tema):\n",
        "    def aplicar_tema(self):\n",
        "        return \"Aplicando tema escuro.\"\n",
        "\n",
        "class TemaContraste(Tema):\n",
        "    def aplicar_tema(self):\n",
        "        return \"Aplicando tema de alto contraste.\"\n",
        "\n",
        "# Classe base ComponenteGUI\n",
        "class ComponenteGUI(ABC):\n",
        "    def __init__(self, tema: Tema):\n",
        "        self.tema = tema\n",
        "\n",
        "    @abstractmethod\n",
        "    def desenhar(self):\n",
        "        pass\n",
        "\n",
        "# Implementações de Componentes\n",
        "class Botao(ComponenteGUI):\n",
        "    def desenhar(self):\n",
        "        print(f\"Desenhando botão. {self.tema.aplicar_tema()}\")\n",
        "\n",
        "class CaixaSelecao(ComponenteGUI):\n",
        "    def desenhar(self):\n",
        "        print(f\"Desenhando caixa de seleção. {self.tema.aplicar_tema()}\")\n",
        "\n",
        "class CaixaTexto(ComponenteGUI):\n",
        "    def desenhar(self):\n",
        "        print(f\"Desenhando caixa de texto. {self.tema.aplicar_tema()}\")\n",
        "\n",
        "# Demonstração do uso\n",
        "if __name__ == \"__main__\":\n",
        "    # Instanciando temas\n",
        "    tema_claro = TemaClaro()\n",
        "    tema_escuro = TemaEscuro()\n",
        "    tema_contraste = TemaContraste()\n",
        "\n",
        "    # Instanciando componentes com diferentes temas\n",
        "    botao_claro = Botao(tema_claro)\n",
        "    botao_escuro = Botao(tema_escuro)\n",
        "    caixa_selecao_contraste = CaixaSelecao(tema_contraste)\n",
        "\n",
        "    # Desenhando componentes\n",
        "    botao_claro.desenhar()\n",
        "    botao_escuro.desenhar()\n",
        "    caixa_selecao_contraste.desenhar()\n"
      ]
    }
  ]
}