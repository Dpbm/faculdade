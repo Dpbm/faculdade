{
 "cells": [
  {
   "cell_type": "code",
   "execution_count": 1,
   "metadata": {},
   "outputs": [],
   "source": [
    "import copy\n",
    "\n",
    "class Texto:\n",
    "    \n",
    "    \"\"\"Classe responsável por guardar o texto a ser adicionado ao editor.\"\"\"\n",
    "\n",
    "    def __init__(self, conteudo=\"\"):\n",
    "        self.conteudo = conteudo\n",
    "\n",
    "    def adicionar(self, texto):\n",
    "        \"\"\"\n",
    "            Concatena o conteudo atual do objeto com o novo texto adicionado.\n",
    "        \"\"\"\n",
    "        self.conteudo += texto\n",
    "\n",
    "    def clone(self):\n",
    "        \"\"\"\n",
    "            Realiza o deepcopy do objeto para o uso do prototype\n",
    "        \"\"\"\n",
    "        return copy.deepcopy(self)\n",
    "\n",
    "    def __str__(self):\n",
    "        return self.conteudo"
   ]
  },
  {
   "cell_type": "code",
   "execution_count": 10,
   "metadata": {},
   "outputs": [],
   "source": [
    "class Editor:\n",
    "    def __init__(self):\n",
    "        self.estado_atual = Texto()\n",
    "        self.historico = []\n",
    "        self.futuro = []\n",
    "\n",
    "    def escrever(self, texto):\n",
    "        \"\"\"\n",
    "            Cria um clone do Texto base contido em self.estado_atual e adiciona no histórico, \n",
    "            salvando assim o estado anterior e preparando o estado_atual para ser sobreescrito.\n",
    "\n",
    "            Após isso, o texto atual é incrementado com o novo texto.\n",
    "        \"\"\"\n",
    "\n",
    "        self.historico.append(self.estado_atual.clone())\n",
    "        self.estado_atual.adicionar(texto)\n",
    "\n",
    "    def desfazer(self):\n",
    "        \"\"\"\n",
    "            Caso haja algum Texto no histórico, o estado atual é clonado e salvo no array `futuro` para ser utilizado em caso de `refazer`.\n",
    "            Após isso, o estado atual é sobreescrito com o último elemento do histórico e o mesmo é removido da lista `historico`. \n",
    "        \"\"\"\n",
    "\n",
    "        if self.historico:\n",
    "            self.futuro.append(self.estado_atual.clone())\n",
    "            self.estado_atual = self.historico.pop()\n",
    "\n",
    "    def refazer(self):\n",
    "        \"\"\"\n",
    "            Caso haja algum Texto no array `futuro`, o estado atual é clonado para o array `histórico` para ser utilizado em caso de `desfazer`.\n",
    "            Após isso, o estado atual é sobreescrito com o último elemento de futuro sendo, também, removido da lista. \n",
    "        \"\"\"\n",
    "\n",
    "        if self.futuro:\n",
    "            self.historico.append(self.estado_atual.clone())\n",
    "            self.estado_atual = self.futuro.pop()\n",
    "\n",
    "    def __str__(self):\n",
    "        return str(self.estado_atual)\n"
   ]
  },
  {
   "cell_type": "code",
   "execution_count": 14,
   "metadata": {},
   "outputs": [
    {
     "name": "stdout",
     "output_type": "stream",
     "text": [
      "ex1\n",
      "ex1ex2 ex1ex3\n",
      "'  '\n"
     ]
    }
   ],
   "source": [
    "editor = Editor()\n",
    "\n",
    "\"\"\"\n",
    "    Após criar o objeto editor, são adicionados duas frases, das quais serão concatenadas no mesmo texto base da classe. \n",
    "    Sendo assim, ao imprimir a primeira parte deste código, o esperado é ter como resultado: \"Primeira frase. Segunda frase.\"\n",
    "\"\"\"\n",
    "\n",
    "\n",
    "editor.escrever(\"ex1\")\n",
    "editor.escrever(\"ex2\")\n",
    "\n",
    "editor.desfazer()\n",
    "editor.escrever(\"ex3\")\n",
    "editor.refazer()\n",
    "editor.desfazer()\n",
    "editor.desfazer()\n",
    "\n",
    "print(editor.estado_atual)\n",
    "print(editor.futuro[0], editor.futuro[1])\n",
    "print(\"'\",editor.historico[0],\"'\")"
   ]
  }
 ],
 "metadata": {
  "kernelspec": {
   "display_name": "Python 3",
   "language": "python",
   "name": "python3"
  },
  "language_info": {
   "codemirror_mode": {
    "name": "ipython",
    "version": 3
   },
   "file_extension": ".py",
   "mimetype": "text/x-python",
   "name": "python",
   "nbconvert_exporter": "python",
   "pygments_lexer": "ipython3",
   "version": "3.12.4"
  }
 },
 "nbformat": 4,
 "nbformat_minor": 2
}
