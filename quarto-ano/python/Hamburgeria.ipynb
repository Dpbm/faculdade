{
  "nbformat": 4,
  "nbformat_minor": 0,
  "metadata": {
    "colab": {
      "provenance": []
    },
    "kernelspec": {
      "name": "python3",
      "display_name": "Python 3"
    },
    "language_info": {
      "name": "python"
    }
  },
  "cells": [
    {
      "cell_type": "markdown",
      "source": [
        "# **Construindo a interface Builder**"
      ],
      "metadata": {
        "id": "WOYIGT_bkLmK"
      }
    },
    {
      "cell_type": "markdown",
      "source": [
        "### **O que são classe abstrata e método abstrato?**\n",
        "Em Python, uma classe abstrata é uma classe que serve como um modelo para outras classes. Ela define métodos e propriedades que outras classes devem implementar, mas normalmente não fornece uma implementação completa dos métodos. O objetivo principal de uma classe abstrata é estabelecer um contrato para outras classes seguirem, garantindo que todos os métodos essenciais sejam implementados.\n",
        "\n",
        "Um método abstrato dentro de uma classe abstrata é um método que é declarado, mas não possui implementação na classe abstrata. Ele apenas define a estrutura e os parâmetros do método, mas deixa a implementação específica para as subclasses. Em outras palavras, métodos abstratos são como promessas que as subclasses precisam cumprir; eles devem ser sobrescritos pelas subclasses que herdam da classe abstrata para fornecer funcionalidades específicas.\n",
        "\n",
        "Para criar classes abstratas e métodos abstratos em Python, usamos o módulo abc (Abstract Base Classes). Uma classe é feita abstrata através da herança de ABC do módulo abc, e os métodos abstratos são indicados pelo decorador @abstractmethod."
      ],
      "metadata": {
        "id": "WU88Y7WRj0CO"
      }
    },
    {
      "cell_type": "code",
      "source": [
        "from abc import ABC, abstractmethod\n",
        "\n",
        "# Define a classe abstrata HamburgerBuilder, que serve como um modelo para construir hambúrgueres.\n",
        "class HamburgerBuilder(ABC):\n",
        "    # O decorator @abstractmethod indica que o método a seguir é abstrato,\n",
        "    # ou seja, ele precisa ser implementado por qualquer subclasse não abstrata da classe HamburgerBuilder.\n",
        "    @abstractmethod\n",
        "    def adicionar_pao(self):\n",
        "        # Método abstrato para adicionar pão ao hambúrguer.\n",
        "        # Subclasses precisam fornecer uma implementação específica de como o pão é adicionado.\n",
        "        pass\n",
        "\n",
        "    @abstractmethod\n",
        "    def adicionar_carne(self):\n",
        "        # Método abstrato para adicionar carne ao hambúrguer.\n",
        "        # Cada subclasse decidirá que tipo de carne adicionar, se é carne de vaca, frango, peixe, etc.\n",
        "        pass\n",
        "\n",
        "    @abstractmethod\n",
        "    def adicionar_queijo(self):\n",
        "        # Método abstrato para adicionar queijo ao hambúrguer.\n",
        "        # Implementações concretas especificarão que tipos de queijo serão usados.\n",
        "        pass\n",
        "\n",
        "    @abstractmethod\n",
        "    def adicionar_condimentos(self):\n",
        "        # Método abstrato para adicionar condimentos ao hambúrguer.\n",
        "        # Isso pode incluir ketchup, mostarda, maionese, etc., dependendo da implementação da subclasse.\n",
        "        pass\n",
        "\n",
        "    @abstractmethod\n",
        "    def get_result(self):\n",
        "        # Método abstrato que retorna o hambúrguer finalizado.\n",
        "        # Este método é crucial para obter o produto final após todos os ingredientes terem sido adicionados.\n",
        "        pass\n"
      ],
      "metadata": {
        "id": "NaxNWdArhpZT"
      },
      "execution_count": null,
      "outputs": []
    },
    {
      "cell_type": "markdown",
      "source": [
        "# **Construindo a classe Produto**\n",
        "No padrão de design Builder, a **classe Produto** representa o objeto final que está sendo construído pelo Builder. Ela serve para:\n",
        "\n",
        "1. **Encapsular a Complexidade**: Agrupa todos os componentes e características do objeto em uma única entidade, simplificando seu manejo.\n",
        "2. **Flexibilidade**: Permite alterar a representação do objeto sem modificar o código que o constrói, facilitando adaptações e melhorias.\n",
        "3. **Reutilização e Manutenção**: Promove a reutilização do processo de construção para diferentes representações do produto, o que ajuda na manutenção e expansão do sistema.\n",
        "\n",
        "Essencialmente, a classe Produto ajuda a manter o processo de construção organizado e modular, permitindo a criação de objetos complexos de forma eficiente e adaptável."
      ],
      "metadata": {
        "id": "J6boiL4NlJ-0"
      }
    },
    {
      "cell_type": "code",
      "source": [
        "# Define a classe Hamburger (Produto), que representa um hambúrguer.\n",
        "class Hamburger:\n",
        "    # O método construtor __init__ é chamado automaticamente quando uma nova instância da classe é criada.\n",
        "    def __init__(self):\n",
        "        # Inicializa uma lista vazia para armazenar os ingredientes do hambúrguer.\n",
        "        self.ingredientes = []\n",
        "\n",
        "    # O método add_ingredient é usado para adicionar um ingrediente à lista de ingredientes do hambúrguer.\n",
        "    def add_ingredient(self, ingredient):\n",
        "        # Adiciona o ingrediente passado como argumento à lista de ingredientes.\n",
        "        self.ingredientes.append(ingredient)\n",
        "\n",
        "    # O método especial __str__ permite definir como a classe será convertida em uma string.\n",
        "    # Esse método é chamado, por exemplo, quando você usa a função print() com uma instância desta classe.\n",
        "    def __str__(self):\n",
        "        # Retorna uma string formatada que lista todos os ingredientes do hambúrguer.\n",
        "        # A função join() é usada para concatenar todos os elementos da lista 'ingredientes', separados por uma vírgula.\n",
        "        return \"Hambúrguer com \" + \", \".join(self.ingredientes)\n"
      ],
      "metadata": {
        "id": "_a401BEAknig"
      },
      "execution_count": null,
      "outputs": []
    },
    {
      "cell_type": "markdown",
      "source": [
        "# **Construindo as classes concretas**\n",
        "As classes concretas no padrão Builder são responsáveis por definir e implementar a construção específica de um produto. Elas detalham cada passo da construção, aplicam a interface Builder e permitem a criação de diferentes versões do produto final. Isso ajuda a manter o código cliente simplificado e desacoplado dos detalhes complexos da construção do objeto, facilitando a manutenção e a expansão do código."
      ],
      "metadata": {
        "id": "XvnTBEh0-XY1"
      }
    },
    {
      "cell_type": "code",
      "source": [
        "# Builder concreto para criar um hambúrguer clássico\n",
        "class ClassicHamburgerBuilder(HamburgerBuilder):\n",
        "    def __init__(self):\n",
        "        # Inicializa um novo hambúrguer\n",
        "        self.hamburger = Hamburger()\n",
        "\n",
        "    # Adiciona pão clássico ao hambúrguer\n",
        "    def adicionar_pao(self):\n",
        "        self.hamburger.add_ingredient(\"pão clássico\")\n",
        "        return self\n",
        "\n",
        "    # Adiciona carne de vaca ao hambúrguer\n",
        "    def adicionar_carne(self):\n",
        "        self.hamburger.add_ingredient(\"carne de vaca\")\n",
        "        return self\n",
        "\n",
        "    # Adiciona queijo cheddar ao hambúrguer\n",
        "    def adicionar_queijo(self):\n",
        "        self.hamburger.add_ingredient(\"queijo cheddar\")\n",
        "        return self\n",
        "\n",
        "    # Adiciona condimentos tradicionais ao hambúrguer\n",
        "    def adicionar_condimentos(self):\n",
        "        self.hamburger.add_ingredient(\"condimentos tradicionais\")\n",
        "        return self\n",
        "\n",
        "    # Retorna o hambúrguer construído\n",
        "    def get_result(self):\n",
        "        return self.hamburger\n",
        "\n",
        "# Builder concreto para criar um cheeseburger\n",
        "class CheeseburgerBuilder(HamburgerBuilder):\n",
        "    def __init__(self):\n",
        "        self.hamburger = Hamburger()\n",
        "\n",
        "    def adicionar_pao(self):\n",
        "        self.hamburger.add_ingredient(\"pão de queijo\")\n",
        "        return self\n",
        "\n",
        "    def adicionar_carne(self):\n",
        "        self.hamburger.add_ingredient(\"carne de vaca\")\n",
        "        return self\n",
        "\n",
        "    def adicionar_queijo(self):\n",
        "        self.hamburger.add_ingredient(\"muito queijo\")\n",
        "        return self\n",
        "\n",
        "    def adicionar_condimentos(self):\n",
        "        self.hamburger.add_ingredient(\"ketchup e mostarda\")\n",
        "        return self\n",
        "\n",
        "    def get_result(self):\n",
        "        return self.hamburger\n",
        "\n",
        "# Cada uma das seguintes classes segue um padrão similar, adaptando os ingredientes para diferentes tipos de hambúrguer:\n",
        "# VeggieBurgerBuilder, ChickenBurgerBuilder, e FishBurgerBuilder. Cada classe configura um hambúrguer com ingredientes específicos,\n",
        "# como pão integral para VeggieBurgerBuilder, filé de frango para ChickenBurgerBuilder, e pão brioche e filé de peixe para FishBurgerBuilder.\n",
        "\n",
        "class VeggieBurgerBuilder(HamburgerBuilder):\n",
        "    def __init__(self):\n",
        "        self.hamburger = Hamburger()\n",
        "\n",
        "    def adicionar_pao(self):\n",
        "        self.hamburger.add_ingredient(\"pão integral\")\n",
        "        return self\n",
        "\n",
        "    def adicionar_carne(self):\n",
        "        self.hamburger.add_ingredient(\"hambúrguer vegetal\")\n",
        "        return self\n",
        "\n",
        "    def adicionar_queijo(self):\n",
        "        self.hamburger.add_ingredient(\"queijo vegano\")\n",
        "        return self\n",
        "\n",
        "    def adicionar_condimentos(self):\n",
        "        self.hamburger.add_ingredient(\"condimentos leves\")\n",
        "        return self\n",
        "\n",
        "    def get_result(self):\n",
        "        return self.hamburger\n",
        "\n",
        "class ChickenBurgerBuilder(HamburgerBuilder):\n",
        "    def __init__(self):\n",
        "        self.hamburger = Hamburger()\n",
        "\n",
        "    def adicionar_pao(self):\n",
        "        self.hamburger.add_ingredient(\"pão de sésamo\")\n",
        "        return self\n",
        "\n",
        "    def adicionar_carne(self):\n",
        "        self.hamburger.add_ingredient(\"filé de frango\")\n",
        "        return self\n",
        "\n",
        "    def adicionar_queijo(self):\n",
        "        self.hamburger.add_ingredient(\"queijo emmental\")\n",
        "        return self\n",
        "\n",
        "    def adicionar_condimentos(self):\n",
        "        self.hamburger.add_ingredient(\"maionese\")\n",
        "        return self\n",
        "\n",
        "    def get_result(self):\n",
        "        return self.hamburger\n",
        "\n",
        "class FishBurgerBuilder(HamburgerBuilder):\n",
        "    def __init__(self):\n",
        "        self.hamburger = Hamburger()\n",
        "\n",
        "    def adicionar_pao(self):\n",
        "        self.hamburger.add_ingredient(\"pão brioche\")\n",
        "        return self\n",
        "\n",
        "    def adicionar_carne(self):\n",
        "        self.hamburger.add_ingredient(\"filé de peixe\")\n",
        "        return self\n",
        "\n",
        "    def adicionar_queijo(self):\n",
        "        self.hamburger.add_ingredient(\"queijo mozzarella\")\n",
        "        return self\n",
        "\n",
        "    def adicionar_condimentos(self):\n",
        "        self.hamburger.add_ingredient(\"tártaro\")\n",
        "        return self\n",
        "\n",
        "    def get_result(self):\n",
        "        return self.hamburger\n"
      ],
      "metadata": {
        "id": "X7E_eMrG-YtO"
      },
      "execution_count": null,
      "outputs": []
    },
    {
      "cell_type": "markdown",
      "source": [
        "# **Construindo o Director**\n",
        "Na implementação do padrão Builder, o papel do Director é coordenar a ordem das etapas de construção necessárias para montar um produto. Ele conhece o processo específico para construir o produto desejado e instrui o builder concreto sobre qual sequência de passos seguir. Essa abordagem centraliza o controle do processo de construção, permitindo alterar facilmente a representação final do produto apenas mudando o builder específico ou ajustando a ordem das operações feitas pelo director. Isso garante que a complexidade da construção seja gerenciada de forma eficiente, mantendo a lógica de montagem do produto separada da lógica específica de cada parte do produto."
      ],
      "metadata": {
        "id": "IDljfQHU_2UO"
      }
    },
    {
      "cell_type": "code",
      "source": [
        "# A classe Chef atua como o director no padrão Builder. Ela é responsável por orquestrar a construção do hambúrguer usando um Builder concreto.\n",
        "class Chef:\n",
        "    # O construtor recebe um builder como parâmetro. Este builder é uma instância de uma classe que implementa HamburgerBuilder.\n",
        "    def __init__(self, builder):\n",
        "        self.builder = builder  # Armazena o builder fornecido para usar em métodos subsequentes.\n",
        "\n",
        "    # Método para construir um hambúrguer. Ele guia o processo de construção passo a passo conforme definido pela interface do builder.\n",
        "    def construir_hamburguer(self):\n",
        "        # O método chama os métodos do builder na ordem específica para construir o hambúrguer.\n",
        "        # Cada chamada de método retorna 'self' (o próprio builder), permitindo que as chamadas sejam encadeadas em uma única instrução.\n",
        "        return (self.builder\n",
        "                .adicionar_pao()         # Primeiro, adiciona o pão.\n",
        "                .adicionar_carne()       # Segundo, adiciona a carne.\n",
        "                .adicionar_queijo()      # Terceiro, adiciona o queijo.\n",
        "                .adicionar_condimentos() # Quarto, adiciona os condimentos.\n",
        "                .get_result())           # Finalmente, retorna o hambúrguer construído.\n"
      ],
      "metadata": {
        "id": "6pyzd32N_239"
      },
      "execution_count": null,
      "outputs": []
    },
    {
      "cell_type": "markdown",
      "source": [
        "# **Fazendo a mágica acontecer...**"
      ],
      "metadata": {
        "id": "mLFHwPT6CO9i"
      }
    },
    {
      "cell_type": "code",
      "execution_count": null,
      "metadata": {
        "id": "t9E5g7ysfnpx"
      },
      "outputs": [],
      "source": [
        "# Definição da função main que controla o fluxo principal do programa.\n",
        "def main():\n",
        "    # Dicionário que mapeia números de escolhas para instâncias de construtores de hambúrgueres específicos.\n",
        "    builders = {\n",
        "        '1': ClassicHamburgerBuilder(),  # Associa '1' com o construtor de hambúrguer clássico.\n",
        "        '2': CheeseburgerBuilder(),      # Associa '2' com o construtor de cheeseburger.\n",
        "        '3': VeggieBurgerBuilder(),      # Associa '3' com o construtor de hambúrguer vegetariano.\n",
        "        '4': ChickenBurgerBuilder(),     # Associa '4' com o construtor de hambúrguer de frango.\n",
        "        '5': FishBurgerBuilder()         # Associa '5' com o construtor de hambúrguer de peixe.\n",
        "    }\n",
        "\n",
        "    # Loop principal do programa, permitindo ao usuário fazer múltiplas escolhas até decidir finalizar.\n",
        "    while True:\n",
        "        print(\"\\nOpções de Hambúrguer:\")  # Apresenta as opções de hambúrgueres disponíveis.\n",
        "        print(\"1. Clássico\")\n",
        "        print(\"2. Cheeseburger\")\n",
        "        print(\"3. Vegetariano\")\n",
        "        print(\"4. Frango\")\n",
        "        print(\"5. Peixe\")\n",
        "        print(\"6. Finalizar\")  # Opção para finalizar o programa.\n",
        "\n",
        "        # Captura a escolha do usuário.\n",
        "        choice = input(\"Escolha uma opção de hambúrguer ou '6' para finalizar: \")\n",
        "\n",
        "        # Verifica se o usuário deseja finalizar o programa.\n",
        "        if choice == '6':\n",
        "            print(\"Finalizado...\")\n",
        "            break\n",
        "\n",
        "        # Verifica se a escolha é válida e está dentro das opções disponíveis.\n",
        "        if choice in builders:\n",
        "            builder = builders[choice]  # Seleciona o construtor com base na escolha do usuário.\n",
        "            chef = Chef(builder)        # Cria um objeto chef, passando o construtor escolhido.\n",
        "            hamburger = chef.construir_hamburguer()  # Constrói o hambúrguer usando o chef e o construtor.\n",
        "            print(\"\\n\" + str(hamburger))  # Exibe o hambúrguer construído.\n",
        "        else:\n",
        "            print(\"Opção inválida. Tente novamente.\")  # Mensagem de erro para opção inválida.\n",
        "\n",
        "# Verifica se o script é o módulo principal executado, garantindo que main só será chamado se o script for executado diretamente.\n",
        "if __name__ == \"__main__\":\n",
        "    main()\n"
      ]
    }
  ]
}