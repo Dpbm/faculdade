{
 "cells": [
  {
   "cell_type": "markdown",
   "metadata": {},
   "source": [
    "<H1>Algoritmo Genético</H1>\n",
    "<h2>N-Queens Problam</h2>\n",
    "<p><b>Objeito: </b>Posicionar as rainhas no tabuleiro de forma que elas não se ataquem</p>\n"
   ]
  },
  {
   "cell_type": "code",
   "execution_count": 1,
   "metadata": {},
   "outputs": [],
   "source": [
    "# Importar as bibliotecas\n",
    "import math\n",
    "import random\n",
    "import copy\n",
    "import itertools as it\n",
    "TAMANHOTABULEIRODEFATUL = 8"
   ]
  },
  {
   "cell_type": "code",
   "execution_count": 2,
   "metadata": {},
   "outputs": [],
   "source": [
    "# Gerar tabuleiro com matriz t por t de zeros com 1 (rainhas) aletóriamente\n",
    "def geraTabuleiro(tamanho):\n",
    "    if tamanho<2: return[-1]\n",
    "    tab = []\n",
    "    for i in range(tamanho):\n",
    "        l=[]\n",
    "        for j in range(tamanho):\n",
    "            l.append(0)\n",
    "        tab.append(l)\n",
    "    for i in range(tamanho): \n",
    "        while True:\n",
    "            j = random.randint(0,tamanho-1)\n",
    "            if tab[i][j] == 0:\n",
    "                tab[i][j]=1\n",
    "                break\n",
    "    return tab"
   ]
  },
  {
   "cell_type": "code",
   "execution_count": 3,
   "metadata": {},
   "outputs": [
    {
     "data": {
      "text/plain": [
       "[[0, 0, 0, 0, 1, 0, 0, 0],\n",
       " [0, 0, 0, 1, 0, 0, 0, 0],\n",
       " [0, 0, 0, 0, 0, 0, 1, 0],\n",
       " [0, 0, 0, 0, 0, 0, 1, 0],\n",
       " [0, 0, 0, 0, 1, 0, 0, 0],\n",
       " [0, 0, 0, 1, 0, 0, 0, 0],\n",
       " [0, 0, 0, 0, 0, 0, 1, 0],\n",
       " [0, 0, 0, 0, 0, 0, 1, 0]]"
      ]
     },
     "execution_count": 3,
     "metadata": {},
     "output_type": "execute_result"
    }
   ],
   "source": [
    "# Testa geraTabuleiro()\n",
    "geraTabuleiro(8)"
   ]
  },
  {
   "cell_type": "code",
   "execution_count": 4,
   "metadata": {},
   "outputs": [],
   "source": [
    "# Localiza rainhas\n",
    "def locateQueens(estado):\n",
    "    q=[]\n",
    "    for i in range(len(estado)):\n",
    "        for j in range(len(estado)):\n",
    "            if estado[i][j] == 1: q.append((i,j))\n",
    "    return q"
   ]
  },
  {
   "cell_type": "code",
   "execution_count": 5,
   "metadata": {},
   "outputs": [
    {
     "name": "stdout",
     "output_type": "stream",
     "text": [
      "[(0, 4), (1, 6), (2, 0), (3, 0), (4, 3), (5, 7), (6, 0), (7, 1)]\n"
     ]
    }
   ],
   "source": [
    "print(locateQueens(geraTabuleiro(8)))"
   ]
  },
  {
   "cell_type": "code",
   "execution_count": 6,
   "metadata": {},
   "outputs": [],
   "source": [
    "# Função para calcular os ataques possiveis no tabuleiro\n",
    "def calAtaques(estado):\n",
    "    at=0\n",
    "    atlinhas=0\n",
    "    # ataque em linhas\n",
    "    for i in estado:\n",
    "        if sum(i)>1:\n",
    "            atlinhas+=sum(i)-1\n",
    "    at+=atlinhas\n",
    "    \n",
    "    # ataques em colunas\n",
    "    atcolunas = 0\n",
    "    for c in range(len(estado)):\n",
    "        n1 = 0\n",
    "        for l in range(len(estado)): n1 += estado[l][c]\n",
    "        if n1>1:\n",
    "            atcolunas += n1 - 1\n",
    "    at+=atcolunas\n",
    "    pr = locateQueens(estado)\n",
    "    d=0\n",
    "    # Ataques em diagonais\n",
    "    for p, coords in enumerate(pr):\n",
    "        i,j = coords\n",
    "        # diagonal esquerda\n",
    "        k,w = i+1,j-1\n",
    "        while(w>=0 and k<len(estado)):\n",
    "            if estado[k][w]==1:\n",
    "                d+=1\n",
    "                break\n",
    "            w-=1\n",
    "            k+=1\n",
    "        # diagonal direita\n",
    "        l,c = i+1, j+1\n",
    "        while(1 < len(estado) and c<len(estado)):\n",
    "            if estado[1][c]==1:\n",
    "                d+=1\n",
    "                break\n",
    "            l+=1\n",
    "            c+=1\n",
    "    at+=d\n",
    "    return at"
   ]
  },
  {
   "cell_type": "code",
   "execution_count": 7,
   "metadata": {},
   "outputs": [
    {
     "name": "stdout",
     "output_type": "stream",
     "text": [
      "7\n"
     ]
    }
   ],
   "source": [
    "print(calAtaques(geraTabuleiro(8)))"
   ]
  },
  {
   "cell_type": "code",
   "execution_count": 8,
   "metadata": {},
   "outputs": [],
   "source": [
    "# Função de Mutação\n",
    "def mutacao(estado, passo):\n",
    "    tam = len(estado)\n",
    "    while True:\n",
    "        i,j = random.choice(locateQueens(estado))\n",
    "        k = (j+passo)%tam\n",
    "        if estado[i][k] == 0:\n",
    "            estado[i][k],estado[i][j] = estado[i][j],estado[i][k]\n",
    "            break\n",
    "    return estado"
   ]
  },
  {
   "cell_type": "code",
   "execution_count": 9,
   "metadata": {},
   "outputs": [
    {
     "name": "stdout",
     "output_type": "stream",
     "text": [
      "Ataques: 6\n",
      "Posição: [(0, 6), (1, 3), (2, 2), (3, 0), (4, 3), (5, 4), (6, 1), (7, 7)]\n",
      "Ataques: 6\n",
      "Posição: [(0, 6), (1, 3), (2, 4), (3, 0), (4, 3), (5, 4), (6, 1), (7, 7)]\n"
     ]
    }
   ],
   "source": [
    "tab = geraTabuleiro(8)\n",
    "print(\"Ataques:\",calAtaques(tab))\n",
    "print(\"Posição:\",locateQueens(tab))\n",
    "tab = mutacao(tab,2)\n",
    "print(\"Ataques:\",calAtaques(tab))\n",
    "print(\"Posição:\",locateQueens(tab))"
   ]
  },
  {
   "cell_type": "code",
   "execution_count": 10,
   "metadata": {},
   "outputs": [],
   "source": [
    "# Gerar população inicial (N individuos de tamanho tam)\n",
    "def geraPopulacaoInicial(N,tam): \n",
    "    populacao = []\n",
    "    for i in range(N):\n",
    "        populacao.append(geraTabuleiro(tam))\n",
    "    return populacao"
   ]
  },
  {
   "cell_type": "code",
   "execution_count": 62,
   "metadata": {},
   "outputs": [],
   "source": [
    "# Testar função geraPopulacaoInicial()\n",
    "pop = geraPopulacaoInicial(100, 8)"
   ]
  },
  {
   "cell_type": "code",
   "execution_count": 12,
   "metadata": {},
   "outputs": [
    {
     "name": "stdout",
     "output_type": "stream",
     "text": [
      "[[[1, 0, 0, 0], [0, 0, 0, 1], [1, 0, 0, 0], [0, 1, 0, 0]], [[1, 0, 0, 0], [0, 0, 0, 1], [0, 0, 1, 0], [0, 0, 0, 1]], [[0, 1, 0, 0], [0, 1, 0, 0], [1, 0, 0, 0], [0, 1, 0, 0]], [[1, 0, 0, 0], [1, 0, 0, 0], [0, 0, 1, 0], [0, 0, 1, 0]], [[0, 1, 0, 0], [0, 1, 0, 0], [1, 0, 0, 0], [1, 0, 0, 0]]]\n"
     ]
    }
   ],
   "source": [
    "print(pop)"
   ]
  },
  {
   "cell_type": "code",
   "execution_count": 13,
   "metadata": {},
   "outputs": [],
   "source": [
    "# Função de cruzamento\n",
    "def crossOver(genoma1, genoma2):\n",
    "    g1 = copy.deepcopy(genoma1)\n",
    "    g2 = copy.deepcopy(genoma2)\n",
    "    corte = random.randint(0,len(g1)-1)\n",
    "    return g1[:corte]+g2[corte:], g2[:corte]+g1[corte:] # dois filhos gerados"
   ]
  },
  {
   "cell_type": "code",
   "execution_count": 14,
   "metadata": {
    "scrolled": true
   },
   "outputs": [
    {
     "data": {
      "text/plain": [
       "([[1, 0, 0, 0], [0, 0, 0, 1], [0, 0, 0, 1], [0, 0, 0, 1]],\n",
       " [[0, 0, 0, 1], [0, 0, 1, 0], [0, 0, 1, 0], [1, 0, 0, 0]])"
      ]
     },
     "execution_count": 14,
     "metadata": {},
     "output_type": "execute_result"
    }
   ],
   "source": [
    "crossOver(geraTabuleiro(4),geraTabuleiro(4))"
   ]
  },
  {
   "cell_type": "code",
   "execution_count": 56,
   "metadata": {},
   "outputs": [],
   "source": [
    "# Função fitness - Retorna o indice fitness da população toda\n",
    "def fitness(populacao):\n",
    "    fits=[]\n",
    "    tam = len(populacao[0])\n",
    "    maxAtaques = math.factorial(tam)/(2*math.factorial(tam-2))\n",
    "    for i in populacao:\n",
    "        fits.append(1- calAtaques(i)/maxAtaques)\n",
    "    return fits"
   ]
  },
  {
   "cell_type": "code",
   "execution_count": 81,
   "metadata": {},
   "outputs": [
    {
     "name": "stdout",
     "output_type": "stream",
     "text": [
      "[0.75, 0.6428571428571428, 0.75, 0.8571428571428572, 0.7857142857142857, 0.6428571428571428, 0.5357142857142857, 0.7142857142857143, 0.6428571428571428, 0.6428571428571428, 0.8214285714285714, 0.5357142857142857, 0.6071428571428572, 0.6785714285714286, 0.6071428571428572, 0.7857142857142857, 0.75, 0.6428571428571428, 0.6785714285714286, 0.6071428571428572, 0.7857142857142857, 0.7142857142857143, 0.75, 0.6785714285714286, 0.5714285714285714, 0.6785714285714286, 0.8571428571428572, 0.6428571428571428, 0.8571428571428572, 0.75, 0.6428571428571428, 0.5714285714285714, 0.7857142857142857, 0.75, 0.8571428571428572, 0.8928571428571429, 0.8928571428571429, 0.6785714285714286, 0.6071428571428572, 0.7142857142857143, 0.5714285714285714, 0.75, 0.7857142857142857, 0.6785714285714286, 0.6428571428571428, 0.6071428571428572, 0.6428571428571428, 0.6428571428571428, 0.8214285714285714, 0.75, 0.8928571428571429, 0.6785714285714286, 0.75, 0.7857142857142857, 0.6428571428571428, 0.9285714285714286, 0.8214285714285714, 0.5357142857142857, 0.8571428571428572, 0.75, 0.5357142857142857, 0.6785714285714286, 0.75, 0.6071428571428572, 0.6071428571428572, 0.9285714285714286, 0.6428571428571428, 0.8214285714285714, 0.6428571428571428, 0.6428571428571428, 0.75, 0.8928571428571429, 0.7142857142857143, 0.6428571428571428, 0.7857142857142857, 0.5714285714285714, 0.6785714285714286, 0.75, 0.8214285714285714, 0.6785714285714286, 0.6428571428571428, 0.7142857142857143, 0.7857142857142857, 0.6071428571428572, 0.7142857142857143, 0.75, 0.6785714285714286, 0.75, 0.8571428571428572, 0.5714285714285714, 0.7857142857142857, 0.6428571428571428, 0.8571428571428572, 0.6785714285714286, 0.8214285714285714, 0.8214285714285714, 0.7142857142857143, 0.7857142857142857, 0.7142857142857143, 0.7857142857142857]\n"
     ]
    }
   ],
   "source": [
    "# Testar Função fitness\n",
    "fit = fitness(pop)\n",
    "print(fit)"
   ]
  },
  {
   "cell_type": "code",
   "execution_count": 17,
   "metadata": {},
   "outputs": [],
   "source": [
    "# Função da Roleta\n",
    "def roletaViciada(populacao, fitness):\n",
    "    # Levantamento da qualidade dos indivíduos\n",
    "    totalFitness = sum(fitness)\n",
    "    \n",
    "    # calculando franção de cada individuo na roleta\n",
    "    fracoes = [f/totalFitness for f in fitness]\n",
    "    \n",
    "    # Criando os intervalos da roleta\n",
    "    intervalos = []\n",
    "    acum = 0\n",
    "    for i in fracoes:\n",
    "        acum+=1\n",
    "        intervalos.append(round(acum,2))\n",
    "    \n",
    "    # Girando a roleta\n",
    "    resultadoRoleta = random.randint(0, len(populacao))/len(populacao)\n",
    "    \n",
    "    # Selecionando um individuo\n",
    "    ind = 0\n",
    "    while resultadoRoleta > intervalos[ind]: ind+=1\n",
    "    \n",
    "    # Retorna o individuo selecionado\n",
    "    return populacao[ind]"
   ]
  },
  {
   "cell_type": "code",
   "execution_count": 43,
   "metadata": {},
   "outputs": [],
   "source": [
    "def roletaViciada(populacao, fitness): # Roleta Honesta\n",
    "    \n",
    "    resultado = random.randint(0, len(populacao)-1)\n",
    "    \n",
    "    return populacao[resultado]"
   ]
  },
  {
   "cell_type": "code",
   "execution_count": 47,
   "metadata": {},
   "outputs": [
    {
     "name": "stdout",
     "output_type": "stream",
     "text": [
      "[[0, 1, 0, 0], [0, 1, 0, 0], [1, 0, 0, 0], [0, 1, 0, 0]]\n"
     ]
    }
   ],
   "source": [
    "print(roletaViciada(pop, fit))"
   ]
  },
  {
   "cell_type": "code",
   "execution_count": 20,
   "metadata": {},
   "outputs": [
    {
     "data": {
      "text/plain": [
       "[[1, 0, 0, 0], [0, 1, 0, 0], [0, 1, 0, 0], [0, 0, 0, 1]]"
      ]
     },
     "execution_count": 20,
     "metadata": {},
     "output_type": "execute_result"
    }
   ],
   "source": [
    "# Teste Roleta\n",
    "roletaViciada(pop, fit)"
   ]
  },
  {
   "cell_type": "code",
   "execution_count": 82,
   "metadata": {},
   "outputs": [],
   "source": [
    "# Função para seleção natural, usando a roleta para escolher os reprodutores\n",
    "def selecaoNatural(populacao, numCasais):\n",
    "    selecao = []\n",
    "    fts = fitness(populacao)\n",
    "    for i in range(2*numCasais):\n",
    "        selecao.append(roletaViciada(populacao, fts))\n",
    "    return selecao"
   ]
  },
  {
   "cell_type": "code",
   "execution_count": 83,
   "metadata": {},
   "outputs": [
    {
     "data": {
      "text/plain": [
       "[[[0, 0, 0, 1, 0, 0, 0, 0],\n",
       "  [0, 0, 0, 0, 0, 0, 0, 1],\n",
       "  [0, 0, 0, 0, 1, 0, 0, 0],\n",
       "  [1, 0, 0, 0, 0, 0, 0, 0],\n",
       "  [0, 0, 1, 0, 0, 0, 0, 0],\n",
       "  [0, 0, 1, 0, 0, 0, 0, 0],\n",
       "  [1, 0, 0, 0, 0, 0, 0, 0],\n",
       "  [0, 0, 0, 1, 0, 0, 0, 0]],\n",
       " [[0, 1, 0, 0, 0, 0, 0, 0],\n",
       "  [0, 0, 0, 1, 0, 0, 0, 0],\n",
       "  [0, 0, 1, 0, 0, 0, 0, 0],\n",
       "  [0, 0, 0, 1, 0, 0, 0, 0],\n",
       "  [0, 0, 0, 0, 0, 0, 1, 0],\n",
       "  [0, 0, 1, 0, 0, 0, 0, 0],\n",
       "  [0, 0, 0, 0, 0, 1, 0, 0],\n",
       "  [0, 0, 0, 0, 0, 1, 0, 0]],\n",
       " [[0, 0, 0, 0, 0, 0, 0, 1],\n",
       "  [0, 0, 0, 0, 0, 0, 1, 0],\n",
       "  [0, 0, 0, 1, 0, 0, 0, 0],\n",
       "  [0, 0, 0, 0, 0, 0, 1, 0],\n",
       "  [0, 0, 1, 0, 0, 0, 0, 0],\n",
       "  [0, 0, 0, 0, 0, 1, 0, 0],\n",
       "  [0, 1, 0, 0, 0, 0, 0, 0],\n",
       "  [0, 0, 0, 0, 0, 0, 0, 1]],\n",
       " [[0, 0, 0, 1, 0, 0, 0, 0],\n",
       "  [0, 0, 0, 0, 0, 0, 0, 1],\n",
       "  [0, 0, 0, 1, 0, 0, 0, 0],\n",
       "  [0, 0, 1, 0, 0, 0, 0, 0],\n",
       "  [0, 1, 0, 0, 0, 0, 0, 0],\n",
       "  [0, 1, 0, 0, 0, 0, 0, 0],\n",
       "  [0, 0, 0, 0, 1, 0, 0, 0],\n",
       "  [0, 1, 0, 0, 0, 0, 0, 0]]]"
      ]
     },
     "execution_count": 83,
     "metadata": {},
     "output_type": "execute_result"
    }
   ],
   "source": [
    "selecaoNatural(pop, 2)"
   ]
  },
  {
   "cell_type": "code",
   "execution_count": 64,
   "metadata": {},
   "outputs": [],
   "source": [
    "# Função para teste de meta\n",
    "def testeMeta(pops):\n",
    "    fts = fitness(pops)\n",
    "    try:\n",
    "        posMeta = fts.index(1)\n",
    "        return \"Solucao\", pops[posMeta]\n",
    "    except (ValueError):\n",
    "        return -1"
   ]
  },
  {
   "cell_type": "code",
   "execution_count": 80,
   "metadata": {},
   "outputs": [
    {
     "data": {
      "text/plain": [
       "-1"
      ]
     },
     "execution_count": 80,
     "metadata": {},
     "output_type": "execute_result"
    }
   ],
   "source": [
    "# teste da função de teste de metas\n",
    "testeMeta(pop)"
   ]
  },
  {
   "cell_type": "code",
   "execution_count": 52,
   "metadata": {},
   "outputs": [],
   "source": [
    "# Funçao do algoritmo genético de fato\n",
    "def genetico(maxIteracoes, tamanhoPopulacao, tamGenoma, taxaReproducao, deslocamentoGene):\n",
    "    \n",
    "    # Gerar população inicial\n",
    "    populacao = geraPopulacaoInicial(tamanhoPopulacao, tamGenoma)\n",
    "    \n",
    "    # Iterações\n",
    "    for i in range(maxIteracoes):\n",
    "        # Primeiro teste de meta\n",
    "        res = testeMeta(populacao)\n",
    "        if res != -1: return res,i\n",
    "        # Etapa de evolucao por reprodução\n",
    "        novaPopulacao = []\n",
    "        reprodutores = selecaoNatural(populacao,taxaReproducao)\n",
    "        machos = reprodutores[:taxaReproducao]\n",
    "        femeas = reprodutores[taxaReproducao:]\n",
    "        for k,w in zip(machos, femeas):\n",
    "            f1,f2 = crossOver(k,w)\n",
    "            novaPopulacao.append(f1)\n",
    "            novaPopulacao.append(f2)\n",
    "        # Teste de meta na nova populacao\n",
    "        res = testeMeta(novaPopulacao)\n",
    "        if res!= -1: return res, i\n",
    "        \n",
    "        # Aceitar mutações na população\n",
    "        for z in novaPopulacao:\n",
    "            if random.randint(0,100)<10:\n",
    "                z=mutacao(z, deslocamentoGene)\n",
    "        populacao = novaPopulacao\n",
    "    return \"falha\", populacao     \n",
    "        "
   ]
  },
  {
   "cell_type": "code",
   "execution_count": 86,
   "metadata": {},
   "outputs": [
    {
     "data": {
      "text/plain": [
       "(('Solucao',\n",
       "  [[0, 0, 1, 0, 0, 0, 0, 0],\n",
       "   [1, 0, 0, 0, 0, 0, 0, 0],\n",
       "   [0, 0, 0, 0, 0, 0, 0, 1],\n",
       "   [0, 0, 0, 1, 0, 0, 0, 0],\n",
       "   [0, 0, 0, 0, 1, 0, 0, 0],\n",
       "   [0, 0, 0, 0, 0, 1, 0, 0],\n",
       "   [0, 1, 0, 0, 0, 0, 0, 0],\n",
       "   [0, 0, 0, 0, 0, 0, 1, 0]]),\n",
       " 98)"
      ]
     },
     "execution_count": 86,
     "metadata": {},
     "output_type": "execute_result"
    }
   ],
   "source": [
    "# Teste de algoritmo genético\n",
    "maxIteracoes = 1000\n",
    "tamanhoPopulacaoInicial = 100\n",
    "tamGenoma = 8 # tabuleiro n x n\n",
    "casaisReprodutores = 32 # numero de casais a serem formados para reprodução\n",
    "deslocamentoGene = 3 # passo no tabuleiro -> regra de mutacao do genoma\n",
    "\n",
    "genetico(maxIteracoes, tamanhoPopulacaoInicial, tamGenoma, casaisReprodutores, deslocamentoGene)"
   ]
  },
  {
   "cell_type": "code",
   "execution_count": null,
   "metadata": {},
   "outputs": [],
   "source": []
  },
  {
   "cell_type": "code",
   "execution_count": null,
   "metadata": {},
   "outputs": [],
   "source": []
  }
 ],
 "metadata": {
  "kernelspec": {
   "display_name": "Python 3 (ipykernel)",
   "language": "python",
   "name": "python3"
  },
  "language_info": {
   "codemirror_mode": {
    "name": "ipython",
    "version": 3
   },
   "file_extension": ".py",
   "mimetype": "text/x-python",
   "name": "python",
   "nbconvert_exporter": "python",
   "pygments_lexer": "ipython3",
   "version": "3.11.5"
  }
 },
 "nbformat": 4,
 "nbformat_minor": 2
}
