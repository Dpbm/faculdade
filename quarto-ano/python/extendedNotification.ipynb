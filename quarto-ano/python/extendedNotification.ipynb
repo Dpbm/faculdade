{
  "nbformat": 4,
  "nbformat_minor": 0,
  "metadata": {
    "colab": {
      "provenance": []
    },
    "kernelspec": {
      "name": "python3",
      "display_name": "Python 3"
    },
    "language_info": {
      "name": "python"
    }
  },
  "cells": [
    {
      "cell_type": "markdown",
      "source": [
        "# **Passo 1: Definir a Interface Target**\n",
        "A primeira coisa que fazemos é definir uma interface que nosso sistema irá usar para enviar mensagens. Essa interface será a \"cara\" do nosso sistema de notificações."
      ],
      "metadata": {
        "id": "ysOp8G48QvhX"
      }
    },
    {
      "cell_type": "code",
      "execution_count": null,
      "metadata": {
        "id": "uvUJ3WnTQuxc"
      },
      "outputs": [],
      "source": [
        "class NotificationInterface:\n",
        "    def send(self, message):\n",
        "        \"\"\"Método para enviar uma mensagem.\"\"\"\n",
        "        pass\n"
      ]
    },
    {
      "cell_type": "markdown",
      "source": [
        "# **Passo 2: Criar a classe Adaptee**\n",
        "Suponhamos que já temos uma classe que envia mensagens de email, mas sua interface não é compatível com a nossa NotificationInterface."
      ],
      "metadata": {
        "id": "q11Sre44Q80X"
      }
    },
    {
      "cell_type": "code",
      "source": [
        "class EmailService:\n",
        "    def send_email(self, subject, body):\n",
        "        \"\"\"Método específico para enviar emails.\"\"\"\n",
        "        print(f\"Enviando email - Assunto: {subject}, Corpo: {body}\")\n"
      ],
      "metadata": {
        "id": "VC_2pNbTQ_zz"
      },
      "execution_count": null,
      "outputs": []
    },
    {
      "cell_type": "markdown",
      "source": [
        "# **Passo 2a: Novos serviços**\n",
        "Vamos criar as classes para os novos serviços que não possuem uma interface compatível com a aplicação existente."
      ],
      "metadata": {
        "id": "X-MszbrwXU8Q"
      }
    },
    {
      "cell_type": "code",
      "source": [
        "class SMSService:\n",
        "    def send_sms(self, number, message):\n",
        "        print(f\"Enviando SMS para {number}: {message}\")\n",
        "\n",
        "class TwitterService:\n",
        "    def post_tweet(self, message):\n",
        "        print(f\"Postando no Twitter: {message}\")\n"
      ],
      "metadata": {
        "id": "yZmH9_8SYqm0"
      },
      "execution_count": null,
      "outputs": []
    },
    {
      "cell_type": "markdown",
      "source": [
        "# **Passo 3: Implementar o Adapter**\n",
        "Agora, vamos criar um Adapter que faz a classe EmailService se adaptar à NotificationInterface."
      ],
      "metadata": {
        "id": "fKn7vXwQRCrs"
      }
    },
    {
      "cell_type": "code",
      "source": [
        "class EmailAdapter(NotificationInterface):\n",
        "    def __init__(self, email_service):\n",
        "        self.email_service = email_service\n",
        "\n",
        "    def send(self, message):\n",
        "        \"\"\"Adapta a interface da NotificationInterface para a interface do EmailService.\"\"\"\n",
        "        subject = \"Você tem uma nova notificação\"\n",
        "        self.email_service.send_email(subject, message)\n"
      ],
      "metadata": {
        "id": "vbTITvyGRJLQ"
      },
      "execution_count": null,
      "outputs": []
    },
    {
      "cell_type": "markdown",
      "source": [
        "# **Passo 3a: Novos Adaptadores**\n",
        "Para cada novo serviço, vamos implementar um adapter que adapte a interface desses serviços para a **NotificationInterface** já utilizada na aplicação. Isso permite que o código cliente existente interaja com os novos serviços sem necessidade de alterações."
      ],
      "metadata": {
        "id": "PpwS7j-1Y1HK"
      }
    },
    {
      "cell_type": "code",
      "source": [
        "class SMSAdapter(NotificationInterface):\n",
        "    def __init__(self, sms_service):\n",
        "        self.sms_service = sms_service\n",
        "\n",
        "    def send(self, message):\n",
        "        phone_number = \"1234567890\"  # Número fictício para demonstração\n",
        "        self.sms_service.send_sms(phone_number, message)\n",
        "\n",
        "class TwitterAdapter(NotificationInterface):\n",
        "    def __init__(self, twitter_service):\n",
        "        self.twitter_service = twitter_service\n",
        "\n",
        "    def send(self, message):\n",
        "        self.twitter_service.post_tweet(message)\n"
      ],
      "metadata": {
        "id": "rtDmmoG1ZNv5"
      },
      "execution_count": null,
      "outputs": []
    },
    {
      "cell_type": "markdown",
      "source": [
        "# **Passo 4: Usar o Adapter**\n",
        "Com o Adapter pronto, podemos usar a EmailService em nosso sistema como se fosse uma implementação regular da NotificationInterface."
      ],
      "metadata": {
        "id": "rWWUhaDxRNu-"
      }
    },
    {
      "cell_type": "code",
      "source": [
        "# Criando uma instância do serviço de email\n",
        "email_service = EmailService()\n",
        "\n",
        "# Criando o adapter para o serviço de email\n",
        "email_adapter = EmailAdapter(email_service)\n",
        "\n",
        "# Agora, podemos usar o adapter para enviar mensagens\n",
        "email_adapter.send(\"Olá! Esta é uma notificação de teste.\")\n"
      ],
      "metadata": {
        "id": "8h5UsKudRScg"
      },
      "execution_count": null,
      "outputs": []
    },
    {
      "cell_type": "markdown",
      "source": [
        "# **Passoa 4a: Integração e Testes**\n",
        "Vamos demonstrar como esses adapters são integrados e usados na aplicação, facilitando a extensão da funcionalidade de notificação sem modificar o código existente:"
      ],
      "metadata": {
        "id": "go65GsABZm27"
      }
    },
    {
      "cell_type": "code",
      "source": [
        "sms_service = SMSService()\n",
        "twitter_service = TwitterService()\n",
        "\n",
        "sms_adapter = SMSAdapter(sms_service)\n",
        "twitter_adapter = TwitterAdapter(twitter_service)\n",
        "\n",
        "# Teste de envio de notificações\n",
        "sms_adapter.send(\"Bem-vindo ao nosso serviço via SMS!\")\n",
        "twitter_adapter.send(\"Olá, Twitter! Adaptando interfaces.\")\n"
      ],
      "metadata": {
        "id": "gZkZTIiQaHvc"
      },
      "execution_count": null,
      "outputs": []
    },
    {
      "cell_type": "markdown",
      "source": [
        "# **Passo 5: Explicação Didática**\n",
        "**Interface Target (NotificationInterface):** Esta é a interface que nosso sistema usa. Ela define um método send, que é suposto ser usado para enviar mensagens.\n",
        "\n",
        "**Classe Adaptee (EmailService):** Esta é a classe existente que queremos usar em nosso sistema. No entanto, ela tem uma interface (send_email) que não é compatível com nossa interface target.\n",
        "\n",
        "**Adapter (EmailAdapter):** Este é um intermediário que implementa a interface target e contém uma instância da classe adaptee. Ele traduz chamadas à sua interface em chamadas à interface da classe adaptee.\n",
        "\n",
        "**Utilização do Adapter:** Criamos uma instância do serviço que queremos adaptar (EmailService), então passamos essa instância para o nosso EmailAdapter. Agora, podemos usar o EmailAdapter para enviar mensagens, e ele cuidará de traduzir essa ação para a interface do serviço de email."
      ],
      "metadata": {
        "id": "v2mWZJ8tRdMj"
      }
    },
    {
      "cell_type": "markdown",
      "source": [
        "# **Passoa 5a: Reflexão e Documentação**\n",
        "- **Utilidade do Adapter**: O padrão Adapter facilitou a inclusão de novos tipos de notificações, permitindo a expansão do sistema sem alterar o código existente.\n",
        "- **Isolamento do Código Cliente**: As vantagens de manter o código cliente isolado, permitindo que adaptações necessárias para suportar novas notificações fossem implementadas sem impactar o funcionamento já estabelecido.\n",
        "- **Desafios e Soluções**: Os desafios, como a conversão de dados e o manejo de exceções, devem ser resolvidos com a criação de uma camada de mapeamento robusta e implementação de um tratamento de exceções eficaz.\n",
        "- **Conclusão**: O padrão Adapter promove a modularidade e flexibilidade no desenvolvimento de software, facilitando a integração e manutenção de sistemas com componentes de interfaces diversas."
      ],
      "metadata": {
        "id": "or-wTRp-aolu"
      }
    }
  ]
}