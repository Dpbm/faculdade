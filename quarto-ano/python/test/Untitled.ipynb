{
 "cells": [
  {
   "cell_type": "code",
   "execution_count": 16,
   "id": "340fc591-a0c0-4aea-8336-d78d2e379cd5",
   "metadata": {},
   "outputs": [],
   "source": [
    "from qiskit import QuantumCircuit\n",
    "from qiskit.visualization import plot_histogram\n",
    "from qiskit_ibm_runtime.fake_provider import FakeBelemV2\n",
    "from qiskit_aer.primitives import EstimatorV2\n",
    "from qiskit_ibm_runtime import EstimatorV2 as Estimator\n",
    "from qiskit.quantum_info import SparsePauliOp\n",
    "from qiskit.transpiler.preset_passmanagers import generate_preset_pass_manager\n",
    "from tqdm import trange\n",
    "import numpy as np"
   ]
  },
  {
   "cell_type": "code",
   "execution_count": 2,
   "id": "75607877-2f71-4971-9e87-eae714de3502",
   "metadata": {},
   "outputs": [
    {
     "data": {
      "image/png": "[encoded data removed]",
      "text/plain": [
       "<Figure size 203.683x200.667 with 1 Axes>"
      ]
     },
     "execution_count": 2,
     "metadata": {},
     "output_type": "execute_result"
    }
   ],
   "source": [
    "qc = QuantumCircuit(2)\n",
    "qc.h(range(2))\n",
    "qc.draw('mpl')"
   ]
  },
  {
   "cell_type": "code",
   "execution_count": 3,
   "id": "5c33fd10-a4bd-4471-b297-c3670a418ff3",
   "metadata": {},
   "outputs": [],
   "source": [
    "estimator = EstimatorV2() "
   ]
  },
  {
   "cell_type": "code",
   "execution_count": 4,
   "id": "1348b25d-90ec-43ec-bfaa-0842f8cff9dd",
   "metadata": {},
   "outputs": [],
   "source": [
    "obs = SparsePauliOp([\"IX\", \"XI\"])"
   ]
  },
  {
   "cell_type": "code",
   "execution_count": 5,
   "id": "1de9d527-9083-4ff2-879f-d83dee1a1da0",
   "metadata": {},
   "outputs": [],
   "source": [
    "expected = estimator.run([(qc,obs)]).result()[0].data.evs"
   ]
  },
  {
   "cell_type": "code",
   "execution_count": 6,
   "id": "b68ee219-f70d-477d-ad07-32c6045d872b",
   "metadata": {},
   "outputs": [],
   "source": [
    "backend = FakeBelemV2()"
   ]
  },
  {
   "cell_type": "code",
   "execution_count": 7,
   "id": "76d12144-9e7a-469b-8643-ef7fad6858c9",
   "metadata": {},
   "outputs": [],
   "source": [
    "est = Estimator(backend)"
   ]
  },
  {
   "cell_type": "code",
   "execution_count": 8,
   "id": "775bf1a5-8fce-4a0f-ae4f-9b050c6394e7",
   "metadata": {},
   "outputs": [],
   "source": [
    "pm = generate_preset_pass_manager(backend=backend, optimization_level=1)"
   ]
  },
  {
   "cell_type": "code",
   "execution_count": 9,
   "id": "59a2fb6a-5b8b-4217-bb15-e2d43dadcd6b",
   "metadata": {},
   "outputs": [],
   "source": [
    "isa = pm.run(qc)\n",
    "isa_obs = obs.apply_layout(isa.layout)"
   ]
  },
  {
   "cell_type": "code",
   "execution_count": 10,
   "id": "6b888f73-672a-40d5-a30c-379d2fd7973b",
   "metadata": {},
   "outputs": [
    {
     "data": {
      "text/plain": [
       "array(1.92675781)"
      ]
     },
     "execution_count": 10,
     "metadata": {},
     "output_type": "execute_result"
    }
   ],
   "source": [
    "est.run([(isa,isa_obs)]).result()[0].data.evs"
   ]
  },
  {
   "cell_type": "code",
   "execution_count": 15,
   "id": "c933fb09-b868-4b2b-809e-14e08a30b5fd",
   "metadata": {},
   "outputs": [
    {
     "name": "stderr",
     "output_type": "stream",
     "text": [
      "100%|████████████████████████████████████████████████████████████████████████████████████████████████████████████████████████████████| 1000/1000 [00:00<00:00, 333410.49it/s]\n"
     ]
    }
   ],
   "source": [
    "tries = 1000\n",
    "samples = 100\n",
    "expected = 2.0\n",
    "\n",
    "backend = FakeBelemV2()\n",
    "estimator = Estimator(backend)\n",
    "pm = generate_preset_pass_manager(backend=backend, optimization_level=1)\n",
    "\n",
    "qc = QuantumCircuit(2)\n",
    "qc.h(range(2))\n",
    "\n",
    "\n",
    "for current_try in trange(tries):\n",
    "\n",
    "    isa = pm.run(qc)\n",
    "    \n",
    "    results = np.zeros(samples)\n",
    "    for sample in range(samples):\n",
    "        \n",
    "        \n",
    "        \n",
    "\n",
    "\n"
   ]
  }
 ],
 "metadata": {
  "kernelspec": {
   "display_name": "Python 3 (ipykernel)",
   "language": "python",
   "name": "python3"
  },
  "language_info": {
   "codemirror_mode": {
    "name": "ipython",
    "version": 3
   },
   "file_extension": ".py",
   "mimetype": "text/x-python",
   "name": "python",
   "nbconvert_exporter": "python",
   "pygments_lexer": "ipython3",
   "version": "3.12.2"
  }
 },
 "nbformat": 4,
 "nbformat_minor": 5
}
