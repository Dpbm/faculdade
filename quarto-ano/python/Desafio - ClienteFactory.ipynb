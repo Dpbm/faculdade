{
  "cells": [
    {
      "cell_type": "markdown",
      "metadata": {
        "id": "oKyIPD6B_gWk"
      },
      "source": [
        "\n",
        "\n",
        "# Padrão\n",
        "\n"
      ]
    },
    {
      "cell_type": "code",
      "execution_count": null,
      "metadata": {
        "id": "1r9PKScw_EN_"
      },
      "outputs": [],
      "source": [
        "class ClientePessoaFisica:\n",
        "   def __init__(self, nome, cpf):\n",
        "     self.nome = nome\n",
        "     self.cpf = cpf\n",
        "\n",
        "   def exibir_informacoes(self):\n",
        "     print(f\"Cliente Pessoa Física: {self.nome}, CPF: {self.cpf}\")\n",
        "\n",
        "class ClientePessoaJuridica:\n",
        "   def __init__(self, nome, cnpj):\n",
        "     self.nome = nome\n",
        "     self.cnpj = cnpj\n",
        "\n",
        "   def exibir_informacoes(self):\n",
        "     print(f\"Cliente Pessoa Jurídica: {self.nome}, CNPJ: {self.cnpj}\")\n",
        "\n"
      ]
    },
    {
      "cell_type": "code",
      "execution_count": null,
      "metadata": {
        "id": "mhOzEwD9_Tbc"
      },
      "outputs": [],
      "source": [
        "# Criação de um cliente pessoa física\n",
        "cliente_pf = ClientePessoaFisica('Maria Oliveira', '111.222.333-44')\n",
        "cliente_pf.exibir_informacoes()\n",
        "\n",
        "# Criação de um cliente pessoa jurídica\n",
        "cliente_pj = ClientePessoaJuridica('Soluções Tech Ltda', '55.666.777/0001-88')\n",
        "cliente_pj.exibir_informacoes()"
      ]
    },
    {
      "cell_type": "markdown",
      "metadata": {
        "id": "OLnyJHIS_wbH"
      },
      "source": [
        "# Factory"
      ]
    },
    {
      "cell_type": "markdown",
      "metadata": {
        "id": "GI3NMERQCL0v"
      },
      "source": [
        "***Passo 1: Definir uma Interface Comum para Clientes***"
      ]
    },
    {
      "cell_type": "code",
      "execution_count": 3,
      "metadata": {
        "id": "nGNbbCAl_zep"
      },
      "outputs": [],
      "source": [
        "class Cliente:\n",
        "    def exibir_informacoes(self):\n",
        "        pass\n",
        "    def validar_documento(self):\n",
        "        pass"
      ]
    },
    {
      "cell_type": "markdown",
      "metadata": {
        "id": "_PBYoZCACaR9"
      },
      "source": [
        "***Passo 2: Criar Classes Concretas***"
      ]
    },
    {
      "cell_type": "code",
      "execution_count": 15,
      "metadata": {
        "id": "8ukKmyyc_5LI"
      },
      "outputs": [],
      "source": [
        "class ClientePessoaFisica(Cliente):\n",
        "    def __init__(self, nome, cpf):\n",
        "        self.nome = nome\n",
        "        self.cpf = cpf\n",
        "\n",
        "    def exibir_informacoes(self):\n",
        "        print(f\"Cliente Pessoa Física: {self.nome}, CPF: {self.cpf}\")\n",
        "\n",
        "    def validar_documento(self):\n",
        "        return len(self.cpf) == 14\n",
        "\n",
        "class ClientePessoaJuridica(Cliente):\n",
        "    def __init__(self, nome, cnpj):\n",
        "        self.nome = nome\n",
        "        self.cnpj = cnpj\n",
        "\n",
        "    def exibir_informacoes(self):\n",
        "        print(f\"Cliente Pessoa Jurídica: {self.nome}, CNPJ: {self.cnpj}\")\n",
        "\n",
        "    def validar_documento(self):\n",
        "        return len(self.cnpj) == 18\n",
        "\n",
        "class ClienteInternacional(Cliente):\n",
        "    def __init__(self, nome, nif):\n",
        "        self.nome = nome\n",
        "        self.nif = nif\n",
        "\n",
        "    def exibir_informacoes(self):\n",
        "        print(f\"Cliente Internacional: {self.nome}, NIF: {self.nif}\")\n",
        "    \n",
        "    def validar_documento(self):\n",
        "        \"\"\"\n",
        "            NIF deve ter 9 digitos sendo os 8 primeiros, valores numericos e o \n",
        "            ultimo uma letra de controle dentro de 'TRWAGMYFPDXBNJZSQVHLCKE', \n",
        "            no qual o index da letra é igual a primeira parte numerica % 23  \n",
        "        \"\"\"\n",
        "\n",
        "        if(len(self.nif) != 9):\n",
        "            return False\n",
        "\n",
        "        numeric_part = self.nif[:8]\n",
        "        digit = self.nif[-1].upper()\n",
        "\n",
        "        if((not numeric_part.isdigit()) or (not digit.isalpha())):\n",
        "            return False\n",
        "\n",
        "        control_string = 'TRWAGMYFPDXBNJZSQVHLCKE'\n",
        "        index = int(numeric_part)%23 # 23 == tamanho da string de controle\n",
        "\n",
        "        return digit == control_string[index]\n",
        "    "
      ]
    },
    {
      "cell_type": "markdown",
      "metadata": {
        "id": "klI4Jp84CgcR"
      },
      "source": [
        "***Passo 3: Criar a Factory***"
      ]
    },
    {
      "cell_type": "code",
      "execution_count": 16,
      "metadata": {
        "id": "Lyaib1Py_-p6"
      },
      "outputs": [],
      "source": [
        "class ClienteFactory:\n",
        "    def criar_cliente(self, tipo, nome, documento):\n",
        "        if tipo == 'pessoa_fisica':\n",
        "            return ClientePessoaFisica(nome, documento)\n",
        "        elif tipo == 'pessoa_juridica':\n",
        "            return ClientePessoaJuridica(nome, documento)\n",
        "        elif tipo == 'internacional':\n",
        "            return ClienteInternacional(nome, documento)\n",
        "        else:\n",
        "            raise ValueError(\"Tipo de cliente não suportado\")"
      ]
    },
    {
      "cell_type": "markdown",
      "metadata": {
        "id": "QNNu28xDCme3"
      },
      "source": [
        "***Passo 4: Usar a Factory para Criar Objetos***"
      ]
    },
    {
      "cell_type": "code",
      "execution_count": 17,
      "metadata": {
        "id": "gCWQbFm9ACqH"
      },
      "outputs": [
        {
          "name": "stdout",
          "output_type": "stream",
          "text": [
            "Cliente Pessoa Física: José Silva, CPF: 123.456.789-00\n",
            "Cliente Pessoa Jurídica: Empresa X, CNPJ: 98.765.432/0001-12\n",
            "Cliente Internacional: ELizabeth, NIF: 12345678Z\n"
          ]
        }
      ],
      "source": [
        "factory = ClienteFactory()\n",
        "\n",
        "cliente_pf = factory.criar_cliente('pessoa_fisica', 'José Silva', '123.456.789-00')\n",
        "if cliente_pf.validar_documento():\n",
        "   cliente_pf.exibir_informacoes()\n",
        "else:\n",
        "   print(\"O CPF não é válido!\")\n",
        "\n",
        "cliente_pj = factory.criar_cliente('pessoa_juridica', 'Empresa X', '98.765.432/0001-12')\n",
        "if cliente_pj.validar_documento():\n",
        "   cliente_pj.exibir_informacoes()\n",
        "else:\n",
        "   print(\"O CNPJ não é válido!\")\n",
        "\n",
        "cliente_internacional = factory.criar_cliente('internacional', 'ELizabeth', '12345678Z')\n",
        "if cliente_internacional.validar_documento():\n",
        "   cliente_internacional.exibir_informacoes()\n",
        "else:\n",
        "   print(\"O NIF não é válido!\")"
      ]
    }
  ],
  "metadata": {
    "colab": {
      "provenance": []
    },
    "kernelspec": {
      "display_name": "Python 3",
      "name": "python3"
    },
    "language_info": {
      "codemirror_mode": {
        "name": "ipython",
        "version": 3
      },
      "file_extension": ".py",
      "mimetype": "text/x-python",
      "name": "python",
      "nbconvert_exporter": "python",
      "pygments_lexer": "ipython3",
      "version": "3.12.4"
    }
  },
  "nbformat": 4,
  "nbformat_minor": 0
}
