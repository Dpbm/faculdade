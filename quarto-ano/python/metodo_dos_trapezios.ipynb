{
  "nbformat": 4,
  "nbformat_minor": 0,
  "metadata": {
    "colab": {
      "provenance": []
    },
    "kernelspec": {
      "name": "python3",
      "display_name": "Python 3"
    },
    "language_info": {
      "name": "python"
    }
  },
  "cells": [
    {
      "cell_type": "code",
      "execution_count": null,
      "metadata": {
        "id": "Ax7PhcYscng7"
      },
      "outputs": [],
      "source": [
        "from numpy import exp, arange"
      ]
    },
    {
      "cell_type": "code",
      "source": [
        "f = lambda x : x*exp(x)"
      ],
      "metadata": {
        "id": "vRXA4WqIc81H"
      },
      "execution_count": null,
      "outputs": []
    },
    {
      "cell_type": "code",
      "source": [
        "def area(a,b,n,f):\n",
        "    h = (b-a)/n\n",
        "    s = sum([f(xk) for xk in arange(a+h,b,h)])\n",
        "    return (h/2)*(f(a)+f(b)+(2*s))"
      ],
      "metadata": {
        "id": "IGNREZwsdB_g"
      },
      "execution_count": null,
      "outputs": []
    },
    {
      "cell_type": "code",
      "source": [
        "area(0,0.8,4,f)"
      ],
      "metadata": {
        "id": "Yi-WOFYweIHC",
        "outputId": "73039896-8682-4f02-a6a9-8dc8e37519c2",
        "colab": {
          "base_uri": "https://localhost:8080/"
        }
      },
      "execution_count": null,
      "outputs": [
        {
          "output_type": "execute_result",
          "data": {
            "text/plain": [
              "np.float64(0.920986165022762)"
            ]
          },
          "metadata": {},
          "execution_count": 14
        }
      ]
    },
    {
      "cell_type": "code",
      "source": [
        "f2 = lambda x: x**0.5"
      ],
      "metadata": {
        "id": "WlFeYBhMh_oe"
      },
      "execution_count": null,
      "outputs": []
    },
    {
      "cell_type": "code",
      "source": [
        "area(1,1.3,6,f2)"
      ],
      "metadata": {
        "colab": {
          "base_uri": "https://localhost:8080/"
        },
        "id": "k1qsDL2TiE1D",
        "outputId": "7eb682fe-9558-4047-d991-87001dec8678"
      },
      "execution_count": null,
      "outputs": [
        {
          "output_type": "execute_result",
          "data": {
            "text/plain": [
              "np.float64(0.3214725635276135)"
            ]
          },
          "metadata": {},
          "execution_count": 13
        }
      ]
    },
    {
      "cell_type": "code",
      "source": [
        "f3 = lambda x : exp(-1*(x**2))"
      ],
      "metadata": {
        "id": "ggl84-Lzw68I"
      },
      "execution_count": null,
      "outputs": []
    },
    {
      "cell_type": "code",
      "source": [
        "area(1,3,4,f3)"
      ],
      "metadata": {
        "id": "m5LIy12rxDcl",
        "outputId": "858dde9b-7dc0-4d38-d7ca-d132757072b1",
        "colab": {
          "base_uri": "https://localhost:8080/"
        }
      },
      "execution_count": null,
      "outputs": [
        {
          "output_type": "execute_result",
          "data": {
            "text/plain": [
              "np.float64(0.15482337153729536)"
            ]
          },
          "metadata": {},
          "execution_count": 17
        }
      ]
    }
  ]
}