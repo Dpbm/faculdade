{
  "nbformat": 4,
  "nbformat_minor": 0,
  "metadata": {
    "colab": {
      "provenance": []
    },
    "kernelspec": {
      "name": "python3",
      "display_name": "Python 3"
    },
    "language_info": {
      "name": "python"
    }
  },
  "cells": [
    {
      "cell_type": "markdown",
      "source": [
        "\n",
        "\n",
        "# Padrão\n",
        "\n"
      ],
      "metadata": {
        "id": "oKyIPD6B_gWk"
      }
    },
    {
      "cell_type": "code",
      "execution_count": null,
      "metadata": {
        "id": "1r9PKScw_EN_"
      },
      "outputs": [],
      "source": [
        "class ClientePessoaFisica:\n",
        "   def __init__(self, nome, cpf):\n",
        "     self.nome = nome\n",
        "     self.cpf = cpf\n",
        "\n",
        "   def exibir_informacoes(self):\n",
        "     print(f\"Cliente Pessoa Física: {self.nome}, CPF: {self.cpf}\")\n",
        "\n",
        "class ClientePessoaJuridica:\n",
        "   def __init__(self, nome, cnpj):\n",
        "     self.nome = nome\n",
        "     self.cnpj = cnpj\n",
        "\n",
        "   def exibir_informacoes(self):\n",
        "     print(f\"Cliente Pessoa Jurídica: {self.nome}, CNPJ: {self.cnpj}\")"
      ]
    },
    {
      "cell_type": "code",
      "source": [
        "# Criação de um cliente pessoa física\n",
        "cliente_pf = ClientePessoaFisica('Maria Oliveira', '111.222.333-44')\n",
        "cliente_pf.exibir_informacoes()\n",
        "\n",
        "# Criação de um cliente pessoa jurídica\n",
        "cliente_pj = ClientePessoaJuridica('Soluções Tech Ltda', '55.666.777/0001-88')\n",
        "cliente_pj.exibir_informacoes()"
      ],
      "metadata": {
        "id": "mhOzEwD9_Tbc"
      },
      "execution_count": null,
      "outputs": []
    },
    {
      "cell_type": "markdown",
      "source": [
        "# Factory"
      ],
      "metadata": {
        "id": "OLnyJHIS_wbH"
      }
    },
    {
      "cell_type": "markdown",
      "source": [
        "***Passo 1: Definir uma Interface Comum para Clientes***"
      ],
      "metadata": {
        "id": "GI3NMERQCL0v"
      }
    },
    {
      "cell_type": "code",
      "source": [
        "class Cliente:\n",
        "    def exibir_informacoes(self):\n",
        "        pass\n",
        "    def validar_documento(self, documento):\n",
        "        pass"
      ],
      "metadata": {
        "id": "nGNbbCAl_zep"
      },
      "execution_count": null,
      "outputs": []
    },
    {
      "cell_type": "markdown",
      "source": [
        "***Passo 2: Criar Classes Concretas***"
      ],
      "metadata": {
        "id": "_PBYoZCACaR9"
      }
    },
    {
      "cell_type": "code",
      "source": [
        "class ClientePessoaFisica(Cliente):\n",
        "    def __init__(self, nome, cpf):\n",
        "        self.nome = nome\n",
        "        self.cpf = cpf\n",
        "\n",
        "    def exibir_informacoes(self):\n",
        "        print(f\"Cliente Pessoa Física: {self.nome}, CPF: {self.cpf}\")\n",
        "\n",
        "    def validar_documento(self):\n",
        "        return len(self.cpf) == 14\n",
        "\n",
        "class ClientePessoaJuridica(Cliente):\n",
        "    def __init__(self, nome, cnpj):\n",
        "        self.nome = nome\n",
        "        self.cnpj = cnpj\n",
        "\n",
        "    def exibir_informacoes(self):\n",
        "        print(f\"Cliente Pessoa Jurídica: {self.nome}, CNPJ: {self.cnpj}\")\n",
        "\n",
        "    def validar_documento(self):\n",
        "        return len(self.cnpj) == 18"
      ],
      "metadata": {
        "id": "8ukKmyyc_5LI"
      },
      "execution_count": null,
      "outputs": []
    },
    {
      "cell_type": "markdown",
      "source": [
        "***Passo 3: Criar a Factory***"
      ],
      "metadata": {
        "id": "klI4Jp84CgcR"
      }
    },
    {
      "cell_type": "code",
      "source": [
        "class ClienteFactory:\n",
        "    def criar_cliente(self, tipo, nome, documento):\n",
        "        if tipo == 'pessoa_fisica':\n",
        "            return ClientePessoaFisica(nome, documento)\n",
        "        elif tipo == 'pessoa_juridica':\n",
        "            return ClientePessoaJuridica(nome, documento)\n",
        "        else:\n",
        "            raise ValueError(\"Tipo de cliente não suportado\")"
      ],
      "metadata": {
        "id": "Lyaib1Py_-p6"
      },
      "execution_count": null,
      "outputs": []
    },
    {
      "cell_type": "markdown",
      "source": [
        "***Passo 4: Usar a Factory para Criar Objetos***"
      ],
      "metadata": {
        "id": "QNNu28xDCme3"
      }
    },
    {
      "cell_type": "code",
      "source": [
        "factory = ClienteFactory()\n",
        "\n",
        "cliente_pf = factory.criar_cliente('pessoa_fisica', 'José Silva', '123.456.789-00')\n",
        "if cliente_pf.validar_documento():\n",
        "   cliente_pf.exibir_informacoes()\n",
        "else:\n",
        "   print(\"O CPF não é válido!\")\n",
        "\n",
        "cliente_pj = factory.criar_cliente('pessoa_juridica', 'Empresa X', '98.765.432/0001-12')\n",
        "if cliente_pj.validar_documento():\n",
        "   cliente_pj.exibir_informacoes()\n",
        "else:\n",
        "   print(\"O CNPJ não é válido!\")"
      ],
      "metadata": {
        "id": "gCWQbFm9ACqH"
      },
      "execution_count": null,
      "outputs": []
    }
  ]
}