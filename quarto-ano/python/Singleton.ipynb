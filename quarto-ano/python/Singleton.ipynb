{
  "nbformat": 4,
  "nbformat_minor": 0,
  "metadata": {
    "colab": {
      "provenance": []
    },
    "kernelspec": {
      "name": "python3",
      "display_name": "Python 3"
    },
    "language_info": {
      "name": "python"
    }
  },
  "cells": [
    {
      "cell_type": "markdown",
      "source": [
        "# **Padrão Singleton**\n",
        "Esse código cria uma classe chamada **Configuracoes** que só pode ter uma única instância — ou seja, independentemente de quantas vezes você tente criar um novo objeto dessa classe, você sempre terminará com o mesmo objeto. Isso é feito usando uma combinação do método **__new__**, para controlar a criação da instância, e uma variável de classe privada **__instance**, que guarda a única instância permitida.\n",
        "\n",
        "Na prática, quando você cria a primeira instância **(config1)**, o código verifica se já existe uma instância guardada em **__instance**. Como não existe, ele cria uma e a guarda. Quando você tenta criar outra instância **(config2)**, o código vê que **__instance** já tem uma instância guardada e retorna essa mesma instância em vez de criar uma nova.\n",
        "\n",
        "Isso significa que **config1** e **config2** são, na verdade, o mesmo objeto. Assim, se você alterar um atributo como o volume em **config1**, essa alteração também será refletida em **config2**, já que eles são o mesmo objeto. O código demonstra isso mudando o volume de 75 para 90 através de **config1** e mostrando que o volume em **config2** também se altera para 90."
      ],
      "metadata": {
        "id": "xycSQEG3wu0h"
      }
    },
    {
      "cell_type": "code",
      "execution_count": null,
      "metadata": {
        "colab": {
          "base_uri": "https://localhost:8080/"
        },
        "id": "KhuXpg9bsCFT",
        "outputId": "db7eda6f-f009-45d3-842c-5c8dc39b84a8"
      },
      "outputs": [
        {
          "output_type": "stream",
          "name": "stdout",
          "text": [
            "75\n",
            "90\n"
          ]
        }
      ],
      "source": [
        "# Define uma classe chamada Configuracoes\n",
        "class Configuracoes:\n",
        "   # Variável de classe privada para armazenar a única instância da classe\n",
        "   __instance = None\n",
        "\n",
        "   # Método especial para criar uma nova instância da classe\n",
        "   def __new__(cls):\n",
        "       # Verifica se uma instância já existe\n",
        "       if Configuracoes.__instance is None:\n",
        "          # Se não, cria uma nova instância e a armazena na variável __instance\n",
        "          Configuracoes.__instance = super().__new__(cls)\n",
        "       # Retorna a instância única\n",
        "       return Configuracoes.__instance\n",
        "\n",
        "   # Método inicializador que define os atributos de instância\n",
        "   def __init__(self):\n",
        "       # Define o volume padrão\n",
        "       self.volume = 75\n",
        "       # Define a dificuldade padrão\n",
        "       self.dificuldade = \"Médio\"\n",
        "\n",
        "# Cria a primeira instância da classe Configuracoes\n",
        "config1 = Configuracoes()\n",
        "# Tenta criar uma segunda instância da classe Configuracoes\n",
        "config2 = Configuracoes()\n",
        "\n",
        "# Imprime o volume atual da configuração, que é 75 por padrão\n",
        "print(config2.volume)\n",
        "\n",
        "# Verifica se config1 e config2 são exatamente a mesma instância\n",
        "assert config1 is config2\n",
        "\n",
        "# Altera o valor do volume na instância config1 para 90\n",
        "config1.volume = 90\n",
        "# Imprime o volume de config2, que também será 90, mostrando que config1 e config2 são a mesma instância\n",
        "print(config2.volume) # A saída será 90, refletindo a alteração feita por meio de config1\n"
      ]
    },
    {
      "cell_type": "markdown",
      "source": [
        "### O que é esse tal de \\_\\_new\\_\\_???\n",
        "\n",
        "O método **\\_\\_new\\_\\_** é um método especial em Python, usado para controlar a criação de uma nova instância de uma classe. Ele é chamado automaticamente antes do método **`__init__`** durante a criação de um objeto e tem a responsabilidade única de retornar uma nova instância do objeto solicitado. Isso o torna especialmente útil para padrões de design como o Singleton, onde você precisa garantir que apenas uma instância de uma classe seja criada.\n",
        "\n",
        "Aqui está o que acontece com **\\_\\_new\\_\\_**:\n",
        "\n",
        "1. **Definição**: O método **`__new__`** é definido na classe com o primeiro argumento sendo **`cls`**, que representa a classe em si. Isso é semelhante ao **`self`**, mas `self` refere-se à instância enquanto **`cls`** refere-se à classe.\n",
        "\n",
        "2. **Controle de Criação de Instâncias**: Quando você chama a classe para criar uma nova instância, Python automaticamente invoca o `__new__` antes de `__init__`. Isso dá ao `__new__` a chance de decidir se uma nova instância deve ser criada ou não.\n",
        "\n",
        "3. **Retornando a Instância**: Dentro de `__new__`, você pode criar uma nova instância da classe usando `super().__new__(cls)`, que chama o `__new__` da superclasse (geralmente `object.__new__`) para realmente criar uma instância da classe. Em seguida, você pode retornar essa instância para que seja inicializada pelo `__init__`.\n",
        "\n",
        "4. **Uso no Singleton**: No contexto do padrão Singleton, o `__new__` verifica se uma instância já existe. Se não existir, ele cria uma nova e a armazena em uma variável de classe, como `__instance`. Se uma instância já existir, ele simplesmente retorna essa instância, sem criar uma nova. Dessa forma, todas as chamadas subsequentes à classe retornarão a mesma instância.\n",
        "\n",
        "Em resumo, o `__new__` é fundamental para controlar a criação de instâncias em Python, permitindo implementações avançadas como o padrão Singleton, onde é necessário limitar a criação de instâncias a apenas uma única instância de uma classe específica."
      ],
      "metadata": {
        "id": "wO6LlCMJLstt"
      }
    },
    {
      "cell_type": "markdown",
      "source": [
        "# Outro exemplo..."
      ],
      "metadata": {
        "id": "rlc6wKCFOcSC"
      }
    },
    {
      "cell_type": "code",
      "source": [
        "class AppConfig:\n",
        "    __instance = None\n",
        "\n",
        "    def __new__(cls):\n",
        "        if not cls.__instance:\n",
        "            cls.__instance = super(AppConfig, cls).__new__(cls)\n",
        "            # Inicialização de atributos de instância vai aqui\n",
        "            cls.__instance.theme = \"Claro\"\n",
        "            cls.__instance.language = \"Português\"\n",
        "            cls.__instance.version = \"1.0.0\"\n",
        "        return cls.__instance\n",
        "\n",
        "    def show_config(self):\n",
        "        print(f\"Tema: {self.theme}, Idioma: {self.language}, Versão: {self.version}\")\n",
        "\n",
        "# Teste do Singleton\n",
        "if __name__ == \"__main__\":\n",
        "    # Cria a primeira instância\n",
        "    config1 = AppConfig()\n",
        "    config1.show_config()  # Tema: Claro, Idioma: Português, Versão: 1.0.0\n",
        "\n",
        "    # Modifica a configuração na primeira instância\n",
        "    config1.theme = \"Escuro\"\n",
        "\n",
        "    # Cria uma \"nova\" instância\n",
        "    config2 = AppConfig()\n",
        "    config2.show_config()  # Tema: Escuro, Idioma: Português, Versão: 1.0.0\n",
        "\n",
        "    # Verifica se ambas as instâncias são de fato a mesma\n",
        "    print(f\"config1 é config2: {config1 is config2}\")  # True\n"
      ],
      "metadata": {
        "id": "CrIWNAynu4cQ"
      },
      "execution_count": null,
      "outputs": []
    }
  ]
}