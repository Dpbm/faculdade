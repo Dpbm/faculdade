{
  "nbformat": 4,
  "nbformat_minor": 0,
  "metadata": {
    "colab": {
      "provenance": []
    },
    "kernelspec": {
      "name": "python3",
      "display_name": "Python 3"
    },
    "language_info": {
      "name": "python"
    }
  },
  "cells": [
    {
      "cell_type": "markdown",
      "source": [
        "# 1. Interace Builder"
      ],
      "metadata": {
        "id": "56sVS6U8zekl"
      }
    },
    {
      "cell_type": "code",
      "execution_count": null,
      "metadata": {
        "id": "BtxkGReKvD_v"
      },
      "outputs": [],
      "source": [
        "from abc import ABC, abstractmethod\n",
        "\n",
        "class ConstrutorCasa(ABC):\n",
        "    @abstractmethod\n",
        "    def construir_fundacao(self):\n",
        "        pass\n",
        "\n",
        "    @abstractmethod\n",
        "    def construir_estrutura(self):\n",
        "        pass\n",
        "\n",
        "    @abstractmethod\n",
        "    def construir_telhado(self):\n",
        "        pass\n",
        "\n",
        "    @abstractmethod\n",
        "    def pintar_casa(self):\n",
        "        pass\n",
        "\n",
        "    @abstractmethod\n",
        "    def mobiliar_casa(self):\n",
        "        pass\n",
        "\n",
        "    @abstractmethod\n",
        "    def get_casa(self):\n",
        "        pass\n"
      ]
    },
    {
      "cell_type": "markdown",
      "source": [
        "# 2. Construtores Concretos"
      ],
      "metadata": {
        "id": "Q1EXP542zmfO"
      }
    },
    {
      "cell_type": "code",
      "source": [
        "class ConstrutorCasaModerna(ConstrutorCasa):\n",
        "    def __init__(self):\n",
        "        self.casa = Casa()\n",
        "\n",
        "    def construir_fundacao(self):\n",
        "        self.casa.add('Fundação moderna')\n",
        "\n",
        "    def construir_estrutura(self):\n",
        "        self.casa.add('Estrutura moderna com janelas amplas')\n",
        "\n",
        "    def construir_telhado(self):\n",
        "        self.casa.add('Telhado plano')\n",
        "\n",
        "    def pintar_casa(self):\n",
        "        self.casa.add('Pintura branca')\n",
        "\n",
        "    def mobiliar_casa(self):\n",
        "        self.casa.add('Móveis minimalistas')\n",
        "\n",
        "    def get_casa(self):\n",
        "        return self.casa\n",
        "\n",
        "class ConstrutorCasaDeCampo(ConstrutorCasa):\n",
        "    def __init__(self):\n",
        "        self.casa = Casa()\n",
        "\n",
        "    def construir_fundacao(self):\n",
        "        self.casa.add('Fundação de pedra')\n",
        "\n",
        "    def construir_estrutura(self):\n",
        "        self.casa.add('Estrutura de madeira com ambientes aconchegantes')\n",
        "\n",
        "    def construir_telhado(self):\n",
        "        self.casa.add('Telhado em duas águas')\n",
        "\n",
        "    def pintar_casa(self):\n",
        "        self.casa.add('Cores pastéis')\n",
        "\n",
        "    def mobiliar_casa(self):\n",
        "        self.casa.add('Móveis estilo vintage')\n",
        "\n",
        "    def get_casa(self):\n",
        "        return self.casa\n"
      ],
      "metadata": {
        "id": "Rgz9jARWvPsW"
      },
      "execution_count": null,
      "outputs": []
    },
    {
      "cell_type": "markdown",
      "source": [
        "# 3. Produto"
      ],
      "metadata": {
        "id": "HWWTFk4Rzs3N"
      }
    },
    {
      "cell_type": "code",
      "source": [
        "class Casa:\n",
        "    def __init__(self):\n",
        "        self.partes = []\n",
        "\n",
        "    def add(self, parte):\n",
        "        self.partes.append(parte)\n",
        "\n",
        "    def descrever(self):\n",
        "        return ', '.join(self.partes)\n"
      ],
      "metadata": {
        "id": "_maZkwURvSfZ"
      },
      "execution_count": null,
      "outputs": []
    },
    {
      "cell_type": "markdown",
      "source": [
        "# 4. Diretor"
      ],
      "metadata": {
        "id": "gkfWYJBvzxY1"
      }
    },
    {
      "cell_type": "code",
      "source": [
        "class DiretorDeConstrucao:\n",
        "    def __init__(self, construtor):\n",
        "        self._construtor = construtor\n",
        "\n",
        "    def construir_casa(self):\n",
        "        self._construtor.construir_fundacao()\n",
        "        self._construtor.construir_estrutura()\n",
        "        self._construtor.construir_telhado()\n",
        "        self._construtor.pintar_casa()\n",
        "        self._construtor.mobiliar_casa()\n",
        "        return self._construtor.get_casa()\n"
      ],
      "metadata": {
        "id": "w-1WEBZSvYA5"
      },
      "execution_count": null,
      "outputs": []
    },
    {
      "cell_type": "markdown",
      "source": [
        "# 5. Utilizando o Código"
      ],
      "metadata": {
        "id": "yQD92_oKz1p7"
      }
    },
    {
      "cell_type": "code",
      "source": [
        "if __name__ == \"__main__\":\n",
        "    construtor_moderno = ConstrutorCasaModerna()\n",
        "    diretor = DiretorDeConstrucao(construtor_moderno)\n",
        "    casa = diretor.construir_casa()\n",
        "    print(casa.descrever())\n",
        "\n",
        "    construtor_campo = ConstrutorCasaDeCampo()\n",
        "    diretor = DiretorDeConstrucao(construtor_campo)\n",
        "    casa = diretor.construir_casa()\n",
        "    print(casa.descrever())\n"
      ],
      "metadata": {
        "colab": {
          "base_uri": "https://localhost:8080/"
        },
        "id": "6OUgbfKFva84",
        "outputId": "4adac6b6-c24b-4fd2-dd34-b8fb06345b3a"
      },
      "execution_count": null,
      "outputs": [
        {
          "output_type": "stream",
          "name": "stdout",
          "text": [
            "Fundação moderna, Estrutura moderna com janelas amplas, Telhado plano, Pintura branca, Móveis minimalistas\n",
            "Fundação de pedra, Estrutura de madeira com ambientes aconchegantes, Telhado em duas águas, Cores pastéis, Móveis estilo vintage\n"
          ]
        }
      ]
    }
  ]
}