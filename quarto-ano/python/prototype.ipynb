{
  "nbformat": 4,
  "nbformat_minor": 0,
  "metadata": {
    "colab": {
      "provenance": []
    },
    "kernelspec": {
      "name": "python3",
      "display_name": "Python 3"
    },
    "language_info": {
      "name": "python"
    }
  },
  "cells": [
    {
      "cell_type": "code",
      "execution_count": null,
      "metadata": {
        "id": "Vnvfg6H695S4",
        "outputId": "593931f5-451a-4ecb-a936-3f381a271d20",
        "colab": {
          "base_uri": "https://localhost:8080/"
        }
      },
      "outputs": [
        {
          "output_type": "stream",
          "name": "stdout",
          "text": [
            "Protótipo: Tipo: Orc, Nível: 1, Pontos de Vida: 100\n",
            "Clone 1: Tipo: Orc, Nível: 2, Pontos de Vida: 100\n",
            "Clone 2: Tipo: Orc, Nível: 1, Pontos de Vida: 120\n",
            "\n",
            "Após alterar o protótipo:\n",
            "Protótipo: Tipo: Elfo, Nível: 5, Pontos de Vida: 200\n",
            "Clone 1: Tipo: Orc, Nível: 2, Pontos de Vida: 100\n",
            "Clone 2: Tipo: Orc, Nível: 1, Pontos de Vida: 120\n"
          ]
        }
      ],
      "source": [
        "# Importa o módulo copy para permitir a criação de cópias profundas de objetos\n",
        "import copy\n",
        "\n",
        "# Define a classe Inimigo, que representa um tipo específico de inimigo no jogo\n",
        "class Inimigo:\n",
        "    # O método __init__ é um método especial para inicializar novas instâncias da classe\n",
        "    def __init__(self, tipo, nivel, pontos_vida):\n",
        "        # Atribui valores aos atributos do objeto baseado nos parâmetros fornecidos\n",
        "        self.tipo = tipo\n",
        "        self.nivel = nivel\n",
        "        self.pontos_vida = pontos_vida\n",
        "\n",
        "    # Método clone utiliza a função deepcopy para criar uma cópia exata, mas independente do objeto atual\n",
        "    def clone(self):\n",
        "        \"\"\"Retorna uma cópia deste inimigo.\"\"\"\n",
        "        # copy.deepcopy cria uma cópia completa e independente do objeto, incluindo objetos internos\n",
        "        return copy.deepcopy(self)\n",
        "\n",
        "    # Método __str__ permite definir como a classe Inimigo é convertida em string, facilitando a impressão\n",
        "    def __str__(self):\n",
        "        \"\"\"Retorna uma representação em string do objeto.\"\"\"\n",
        "        # Retorna uma string formatada com os atributos do inimigo\n",
        "        return f\"Tipo: {self.tipo}, Nível: {self.nivel}, Pontos de Vida: {self.pontos_vida}\"\n",
        "\n",
        "# Cria um objeto inimigo_prototipo da classe Inimigo para servir como modelo para futuras cópias\n",
        "inimigo_prototipo = Inimigo(\"Orc\", 1, 100)\n",
        "\n",
        "# Utiliza o método clone para criar cópias independentes do protótipo\n",
        "inimigo1 = inimigo_prototipo.clone()\n",
        "inimigo2 = inimigo_prototipo.clone()\n",
        "\n",
        "# Modifica atributos dos clones para personalizá-los\n",
        "inimigo1.nivel = 2  # Aumenta o nível do primeiro clone\n",
        "inimigo2.pontos_vida = 120  # Aumenta os pontos de vida do segundo clone\n",
        "\n",
        "# Imprime os atributos do protótipo e dos clones para demonstrar que são objetos independentes\n",
        "print(\"Protótipo:\", inimigo_prototipo)  # Mostra os atributos do protótipo\n",
        "print(\"Clone 1:\", inimigo1)  # Mostra os atributos do primeiro clone\n",
        "print(\"Clone 2:\", inimigo2)  # Mostra os atributos do segundo clone\n",
        "\n",
        "\n",
        "# Alterando o protótipo após a clonagem\n",
        "inimigo_prototipo.tipo = \"Elfo\"\n",
        "inimigo_prototipo.nivel = 5\n",
        "inimigo_prototipo.pontos_vida = 200\n",
        "\n",
        "# Mostrando que as alterações no protótipo não afetam os clones já criados\n",
        "print(\"\\nApós alterar o protótipo:\")\n",
        "print(\"Protótipo:\", inimigo_prototipo)\n",
        "print(\"Clone 1:\", inimigo1)\n",
        "print(\"Clone 2:\", inimigo2)\n"
      ]
    }
  ]
}