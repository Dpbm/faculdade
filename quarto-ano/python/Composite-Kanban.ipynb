{
 "cells": [
  {
   "cell_type": "code",
   "execution_count": null,
   "metadata": {},
   "outputs": [],
   "source": [
    "from abc import ABC, abstractmethod\n",
    "\n",
    "# Interface Componente\n",
    "class Componente(ABC):\n",
    "    @abstractmethod\n",
    "    def mostrar_detalhes(self, nivel=0):\n",
    "        pass\n"
   ]
  },
  {
   "cell_type": "code",
   "execution_count": null,
   "metadata": {},
   "outputs": [],
   "source": [
    "# Classe Tarefa (Cartão)\n",
    "class Tarefa(Componente):\n",
    "    def __init__(self, descricao, prioridade, duracao, responsavel):\n",
    "        self.descricao = descricao\n",
    "        self.prioridade = prioridade\n",
    "        self.duracao = duracao\n",
    "        self.responsavel = responsavel\n",
    "\n",
    "    def mostrar_detalhes(self, nivel=0):\n",
    "        prefixo = \" \" * (nivel * 2)\n",
    "        print(f\"{prefixo}Tarefa: {self.descricao}, Prioridade: {self.prioridade}, Duração: {self.duracao}h, Responsável: {self.responsavel}\")\n"
   ]
  },
  {
   "cell_type": "code",
   "execution_count": null,
   "metadata": {},
   "outputs": [],
   "source": [
    "# Classe Lista de Tarefas (Lista)\n",
    "class ListaTarefas(Componente):\n",
    "    def __init__(self, titulo):\n",
    "        self.titulo = titulo\n",
    "        self.tarefas = []\n",
    "\n",
    "    def adicionar(self, tarefa):\n",
    "        self.tarefas.append(tarefa)\n",
    "\n",
    "    def remover(self, tarefa):\n",
    "        self.tarefas.remove(tarefa)\n",
    "\n",
    "    def mostrar_detalhes(self, nivel=0):\n",
    "        prefixo = \" \" * (nivel * 2)\n",
    "        print(f\"{prefixo}Lista: {self.titulo}\")\n",
    "        for tarefa in self.tarefas:\n",
    "            tarefa.mostrar_detalhes(nivel + 1)\n"
   ]
  },
  {
   "cell_type": "code",
   "execution_count": null,
   "metadata": {},
   "outputs": [],
   "source": [
    "# Classe Projeto (Quadro)\n",
    "class Projeto(Componente):\n",
    "    def __init__(self, titulo):\n",
    "        self.titulo = titulo\n",
    "        self.listas = []\n",
    "\n",
    "    def adicionar(self, lista):\n",
    "        self.listas.append(lista)\n",
    "\n",
    "    def remover(self, lista):\n",
    "        self.listas.remove(lista)\n",
    "\n",
    "    def mostrar_detalhes(self, nivel=0):\n",
    "        prefixo = \" \" * (nivel * 2)\n",
    "        print(f\"{prefixo}Projeto: {self.titulo}\")\n",
    "        for lista in self.listas:\n",
    "            lista.mostrar_detalhes(nivel + 1)\n"
   ]
  },
  {
   "cell_type": "code",
   "execution_count": null,
   "metadata": {},
   "outputs": [],
   "source": [
    "if __name__ == \"__main__\":\n",
    "    # Criando tarefas\n",
    "    tarefa1 = Tarefa(\"Implementar login\", \"Alta\", 5, \"João\")\n",
    "    tarefa2 = Tarefa(\"Criar banco de dados\", \"Média\", 8, \"Maria\")\n",
    "    tarefa3 = Tarefa(\"Desenvolver frontend\", \"Baixa\", 12, \"Carlos\")\n",
    "\n",
    "    # Criando listas de tarefas\n",
    "    lista1 = ListaTarefas(\"Backlog\")\n",
    "    lista2 = ListaTarefas(\"Em Andamento\")\n",
    "    lista3 = ListaTarefas(\"Concluído\")\n",
    "\n",
    "    # Adicionando tarefas às listas\n",
    "    lista1.adicionar(tarefa1)\n",
    "    lista1.adicionar(tarefa2)\n",
    "    lista2.adicionar(tarefa3)\n",
    "\n",
    "    # Criando projeto (quadro)\n",
    "    projeto = Projeto(\"Projeto Kanban\")\n",
    "    projeto.adicionar(lista1)\n",
    "    projeto.adicionar(lista2)\n",
    "    projeto.adicionar(lista3)\n",
    "\n",
    "    # Mostrando detalhes do projeto\n",
    "    projeto.mostrar_detalhes()\n"
   ]
  }
 ],
 "metadata": {
  "language_info": {
   "name": "python"
  }
 },
 "nbformat": 4,
 "nbformat_minor": 2
}
