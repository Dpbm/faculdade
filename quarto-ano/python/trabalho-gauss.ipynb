{
  "nbformat": 4,
  "nbformat_minor": 0,
  "metadata": {
    "colab": {
      "provenance": []
    },
    "kernelspec": {
      "name": "python3",
      "display_name": "Python 3"
    },
    "language_info": {
      "name": "python"
    }
  },
  "cells": [
    {
      "cell_type": "code",
      "execution_count": null,
      "metadata": {
        "colab": {
          "base_uri": "https://localhost:8080/"
        },
        "id": "qqnl0yBH82_X",
        "outputId": "49faf3c4-e72a-44fa-d57c-a5580d3172c7"
      },
      "outputs": [
        {
          "output_type": "stream",
          "name": "stdout",
          "text": [
            "matrix = [\r\n",
            "    [0.5, -1, 1, 6],\r\n",
            "    [3,2, 1,6],\r\n",
            "    [5, -1, -3, -1]\r\n",
            "]\r\n",
            "\r\n",
            "def show_matrix(matrix):\r\n",
            "    for row in matrix:\r\n",
            "        str_values = list(map(str,row))\r\n",
            "        print(\" \".join(str_values) + \"\\n\" ,end=\"\")\r\n",
            "\r\n",
            "def sort_rows(matrix, target_column):\r\n",
            "    return sorted(matrix, key=lambda row:abs(row[target_column]),reverse=True)\r\n",
            "\r\n",
            "def get_column(matrix, column):\r\n",
            "    return [row[column] for row in matrix]\r\n",
            "\r\n",
            "def get_pivot(matrix, target_column):\r\n",
            "    column_values = get_column(matrix, target_column)\r\n",
            "    abs_values = [abs(value) for value in column_values]\r\n",
            "\r\n",
            "    max_value = max(abs_values)\r\n",
            "    index_pivot = abs_values.index(max_value)\r\n",
            "\r\n",
            "    return column_values[index_pivot]\r\n",
            "\r\n",
            "def get_multiplier(matrix, target_row, target_column, pivot):\r\n",
            "    next_row_val = matrix[target_row][target_column]\r\n",
            "    return next_row_val/pivot\r\n",
            "\r\n",
            "def apply_multiplier(matrix, pivot_row, target_row, multiplier):\r\n",
            "    for i,l2 in enumerate(matrix[target_row]):\r\n",
            "        matrix[target_row][i] = matrix[target_row][i] - (matrix[pivot_row][i] * multiplier)\r\n",
            "\r\n",
            "if __name__ == \"__main__\":\r\n",
            "\r\n",
            "    for current_column in range(0,2):\r\n",
            "        matrix = sort_rows(matrix,current_column) \r\n",
            "        pivot = get_pivot(matrix[current_column:], current_column)\r\n",
            "\r\n",
            "        for current_row in range(current_column+1,3):\r\n",
            "            multiplier = get_multiplier(matrix, current_row, current_column, pivot)\r\n",
            "            apply_multiplier(matrix, current_column, current_row, multiplier)\r\n",
            "\r\n",
            "    show_matrix(matrix)"
          ]
        }
      ],
      "source": [
        "!cat trabalho.py"
      ]
    },
    {
      "cell_type": "code",
      "source": [
        "!cat gauss.py"
      ],
      "metadata": {
        "colab": {
          "base_uri": "https://localhost:8080/"
        },
        "id": "tnSR2G-6DnYO",
        "outputId": "09e897d1-bdc3-4081-ab32-a9b05b79825d"
      },
      "execution_count": null,
      "outputs": [
        {
          "output_type": "stream",
          "name": "stdout",
          "text": [
            "def gauss(matrix):\r\n",
            "    n = len(matrix)\r\n",
            "    \r\n",
            "    for i in range(n):\r\n",
            "        max_row = i + max(range(n - i), key=lambda k: abs(matrix[i + k][i]))\r\n",
            "        matrix[i], matrix[max_row] = matrix[max_row], matrix[i]\r\n",
            "        \r\n",
            "        pivot = matrix[i][i]\r\n",
            "        if pivot == 0:\r\n",
            "            raise ValueError(\"Sistema não tem solução única.\")\r\n",
            "        \r\n",
            "        for j in range(i + 1, n):\r\n",
            "            ratio = matrix[j][i] / pivot\r\n",
            "            for k in range(i, n + 1):\r\n",
            "                matrix[j][k] -= ratio * matrix[i][k]\r\n",
            "    \r\n",
            "    x = [0 for _ in range(n)]\r\n",
            "    for i in range(n - 1, -1, -1):\r\n",
            "        x[i] = matrix[i][n]\r\n",
            "        for j in range(i + 1, n):\r\n",
            "            x[i] -= matrix[i][j] * x[j]\r\n",
            "        x[i] /= matrix[i][i]\r\n",
            "    \r\n",
            "    return x\r\n",
            "\r\n",
            "matriz = [\r\n",
            "    [3, 2, 4, 1],\r\n",
            "    [1, 1, 2, 2],\r\n",
            "    [4, 3, -2, 3]\r\n",
            "]\r\n",
            "\r\n",
            "solucao = gauss(matriz)\r\n",
            "print(\"Solução do sistema:\")\r\n",
            "print(f\"x1 = {solucao[0]}\")\r\n",
            "print(f\"x2 = {solucao[1]}\")\r\n",
            "print(f\"x3 = {solucao[2]}\")"
          ]
        }
      ]
    },
    {
      "cell_type": "code",
      "source": [
        "matrix = [\n",
        "    [3, 2, 4, 1],\n",
        "    [1, 1, 2, 2],\n",
        "    [4, 3, -2, 3]\n",
        "]\n",
        "\n",
        "def show_matrix(matrix):\n",
        "    for row in matrix:\n",
        "        str_values = list(map(str,row))\n",
        "        print(\" \".join(str_values) + \"\\n\" ,end=\"\")\n",
        "\n",
        "def sort_rows(matrix, target_column):\n",
        "    return sorted(matrix, key=lambda row:abs(row[target_column]),reverse=True)\n",
        "\n",
        "def get_column(matrix, column):\n",
        "    return [row[column] for row in matrix]\n",
        "\n",
        "def get_pivot(matrix, target_column):\n",
        "    column_values = get_column(matrix, target_column)\n",
        "    abs_values = [abs(value) for value in column_values]\n",
        "\n",
        "    max_value = max(abs_values)\n",
        "    index_pivot = abs_values.index(max_value)\n",
        "\n",
        "    return column_values[index_pivot]\n",
        "\n",
        "def get_multiplier(matrix, target_row, target_column, pivot):\n",
        "    next_row_val = matrix[target_row][target_column]\n",
        "    return next_row_val/pivot\n",
        "\n",
        "def apply_multiplier(matrix, pivot_row, target_row, multiplier):\n",
        "    for i,l2 in enumerate(matrix[target_row]):\n",
        "        matrix[target_row][i] = matrix[target_row][i] - (matrix[pivot_row][i] * multiplier)\n",
        "\n",
        "if __name__ == \"__main__\":\n",
        "\n",
        "    for current_column in range(0,2):\n",
        "        matrix = sort_rows(matrix,current_column)\n",
        "        pivot = get_pivot(matrix[current_column:], current_column)\n",
        "\n",
        "        for current_row in range(current_column+1,3):\n",
        "            multiplier = get_multiplier(matrix, current_row, current_column, pivot)\n",
        "            apply_multiplier(matrix, current_column, current_row, multiplier)\n",
        "\n",
        "    show_matrix(matrix)"
      ],
      "metadata": {
        "colab": {
          "base_uri": "https://localhost:8080/"
        },
        "id": "OlaN3YdBDezq",
        "outputId": "5bd39839-5757-4bd1-aa2e-e797293919cc"
      },
      "execution_count": null,
      "outputs": [
        {
          "output_type": "stream",
          "name": "stdout",
          "text": [
            "4 3 -2 3\n",
            "0.0 -0.25 5.5 -1.25\n",
            "0.0 0.0 8.0 0.0\n"
          ]
        }
      ]
    },
    {
      "cell_type": "code",
      "source": [
        "1.25/0.25"
      ],
      "metadata": {
        "colab": {
          "base_uri": "https://localhost:8080/"
        },
        "id": "o4TmtE96EW8f",
        "outputId": "b7b7270b-830f-48de-a76d-3f594c0b2d08"
      },
      "execution_count": null,
      "outputs": [
        {
          "output_type": "execute_result",
          "data": {
            "text/plain": [
              "5.0"
            ]
          },
          "metadata": {},
          "execution_count": 5
        }
      ]
    },
    {
      "cell_type": "code",
      "source": [
        "12/4"
      ],
      "metadata": {
        "colab": {
          "base_uri": "https://localhost:8080/"
        },
        "id": "1pVSzxgQEmEs",
        "outputId": "bb501723-41b4-48c2-9663-bf1c29b1f228"
      },
      "execution_count": null,
      "outputs": [
        {
          "output_type": "execute_result",
          "data": {
            "text/plain": [
              "3.0"
            ]
          },
          "metadata": {},
          "execution_count": 6
        }
      ]
    },
    {
      "cell_type": "code",
      "source": [
        "!python gauss.py"
      ],
      "metadata": {
        "id": "XuFanXBBEsiZ",
        "outputId": "09cfe3b0-7307-4c8b-ef13-2fe84bc1a4d0",
        "colab": {
          "base_uri": "https://localhost:8080/"
        }
      },
      "execution_count": null,
      "outputs": [
        {
          "output_type": "stream",
          "name": "stdout",
          "text": [
            "Solução do sistema:\n",
            "x1 = -3.0\n",
            "x2 = 5.0\n",
            "x3 = 0.0\n"
          ]
        }
      ]
    }
  ]
}