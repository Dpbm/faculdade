{
 "cells": [
  {
   "cell_type": "code",
   "execution_count": 28,
   "metadata": {},
   "outputs": [],
   "source": [
    "from qiskit import QuantumCircuit, transpile\n",
    "from qiskit.circuit.library import RYGate,XGate\n",
    "from qiskit.circuit import Parameter\n",
    "from qiskit.providers import BackendV2, Options\n",
    "from qiskit.transpiler import Target, InstructionProperties\n",
    "import numpy as np"
   ]
  },
  {
   "cell_type": "code",
   "execution_count": 29,
   "metadata": {},
   "outputs": [
    {
     "data": {
      "image/png": "[encoded data removed]",
      "text/plain": [
       "<Figure size 269.064x117.056 with 1 Axes>"
      ]
     },
     "execution_count": 29,
     "metadata": {},
     "output_type": "execute_result"
    }
   ],
   "source": [
    "qc = QuantumCircuit(1)\n",
    "qc.ry(np.pi, 0)\n",
    "qc.ry(np.pi, 0)\n",
    "qc.draw(\"mpl\")"
   ]
  },
  {
   "cell_type": "code",
   "execution_count": 30,
   "metadata": {},
   "outputs": [],
   "source": [
    "class Backend(BackendV2):\n",
    "    def __init__(self):\n",
    "        super().__init__(name=\"IHHI\")\n",
    "        num_qubits = 1\n",
    "        self._target = Target(\"CHIPIHHI\", 1)\n",
    "\n",
    "        self._target.add_instruction(RYGate(Parameter(\"theta\")), {(0,): InstructionProperties(error=0.0, duration=0.0)})\n",
    "        self._target.add_instruction(XGate(), {(0,): InstructionProperties(error=0.0, duration=0.0)})\n",
    "\n",
    "    @property\n",
    "    def target(self):\n",
    "        return self._target\n",
    "\n",
    "    @property\n",
    "    def max_circuits(self):\n",
    "        return None\n",
    "    \n",
    "    @classmethod\n",
    "    def _default_options(cls):\n",
    "        return Options(shots=1000)\n",
    " \n",
    "    def run(self, circuit, **kwargs):\n",
    "        raise NotImplementedError(\n",
    "            \"This backend does not contain a run method\"\n",
    "        )"
   ]
  },
  {
   "cell_type": "code",
   "execution_count": 31,
   "metadata": {},
   "outputs": [],
   "source": [
    "backend = Backend()"
   ]
  },
  {
   "cell_type": "code",
   "execution_count": 33,
   "metadata": {},
   "outputs": [
    {
     "data": {
      "image/png": "[encoded data removed]",
      "text/plain": [
       "<Figure size 269.064x117.056 with 1 Axes>"
      ]
     },
     "execution_count": 33,
     "metadata": {},
     "output_type": "execute_result"
    }
   ],
   "source": [
    "transpile(qc, backend, optimization_level=3).draw('mpl')"
   ]
  }
 ],
 "metadata": {
  "kernelspec": {
   "display_name": "Python 3",
   "language": "python",
   "name": "python3"
  },
  "language_info": {
   "codemirror_mode": {
    "name": "ipython",
    "version": 3
   },
   "file_extension": ".py",
   "mimetype": "text/x-python",
   "name": "python",
   "nbconvert_exporter": "python",
   "pygments_lexer": "ipython3",
   "version": "3.12.2"
  }
 },
 "nbformat": 4,
 "nbformat_minor": 2
}
