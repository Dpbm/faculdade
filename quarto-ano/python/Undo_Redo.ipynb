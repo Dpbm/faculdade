{
  "nbformat": 4,
  "nbformat_minor": 0,
  "metadata": {
    "colab": {
      "provenance": []
    },
    "kernelspec": {
      "name": "python3",
      "display_name": "Python 3"
    },
    "language_info": {
      "name": "python"
    }
  },
  "cells": [
    {
      "cell_type": "code",
      "execution_count": null,
      "metadata": {
        "id": "1KqZhNpLHrPY"
      },
      "outputs": [],
      "source": [
        "import copy\n",
        "\n",
        "class Texto:\n",
        "    def __init__(self, conteudo=\"\"):\n",
        "        self.conteudo = conteudo\n",
        "\n",
        "    def adicionar(self, texto):\n",
        "        self.conteudo += texto\n",
        "\n",
        "    def clone(self):\n",
        "        return copy.deepcopy(self)\n",
        "\n",
        "    def __str__(self):\n",
        "        return self.conteudo\n"
      ]
    },
    {
      "cell_type": "code",
      "source": [
        "class Editor:\n",
        "    def __init__(self):\n",
        "        self.estado_atual = Texto()\n",
        "        self.historico = []\n",
        "        self.futuro = []\n",
        "\n",
        "    def escrever(self, texto):\n",
        "        self.historico.append(self.estado_atual.clone())\n",
        "        self.estado_atual.adicionar(texto)\n",
        "\n",
        "    def desfazer(self):\n",
        "        if self.historico:\n",
        "            self.futuro.append(self.estado_atual.clone())\n",
        "            self.estado_atual = self.historico.pop()\n",
        "\n",
        "    def refazer(self):\n",
        "        if self.futuro:\n",
        "            self.historico.append(self.estado_atual.clone())\n",
        "            self.estado_atual = self.futuro.pop()\n",
        "\n",
        "    def __str__(self):\n",
        "        return str(self.estado_atual)\n"
      ],
      "metadata": {
        "id": "1slvX14jHwB_"
      },
      "execution_count": null,
      "outputs": []
    },
    {
      "cell_type": "code",
      "source": [
        "editor = Editor()\n",
        "\n",
        "editor.escrever(\"Primeira frase. \")\n",
        "editor.escrever(\"Segunda frase. \")\n",
        "\n",
        "print(editor)  # Primeira frase. Segunda frase.\n",
        "\n",
        "editor.desfazer()\n",
        "print(editor)  # Primeira frase.\n",
        "\n",
        "editor.desfazer()\n",
        "print(editor)  # (vazio)\n",
        "\n",
        "editor.refazer()\n",
        "print(editor)  # Primeira frase.\n",
        "\n",
        "editor.refazer()\n",
        "print(editor)  # Primeira frase. Segunda frase.\n",
        "\n",
        "# Saídas esperadas:\n",
        "# Primeira frase. Segunda frase.\n",
        "# Primeira frase.\n",
        "#\n",
        "# Primeira frase.\n"
      ],
      "metadata": {
        "colab": {
          "base_uri": "https://localhost:8080/"
        },
        "id": "pWm6rJRXH3EP",
        "outputId": "7456172f-5e67-49e0-a6fc-c20f7df71c81"
      },
      "execution_count": null,
      "outputs": [
        {
          "output_type": "stream",
          "name": "stdout",
          "text": [
            "Primeira frase. Segunda frase. \n",
            "Primeira frase. \n",
            "\n",
            "Primeira frase. \n",
            "Primeira frase. Segunda frase. \n"
          ]
        }
      ]
    }
  ]
}