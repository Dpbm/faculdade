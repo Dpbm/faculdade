{
  "nbformat": 4,
  "nbformat_minor": 0,
  "metadata": {
    "colab": {
      "provenance": []
    },
    "kernelspec": {
      "name": "python3",
      "display_name": "Python 3"
    },
    "language_info": {
      "name": "python"
    }
  },
  "cells": [
    {
      "cell_type": "code",
      "source": [
        "class GerenciadorDeImpressao:\n",
        "    # Passo 1: Variável de classe privada para armazenar a única instância da classe\n",
        "    __instance = None\n",
        "\n",
        "    def __new__(cls):\n",
        "        # Passo 2 (parte 1): Método especial para controlar a criação da instância única\n",
        "        if GerenciadorDeImpressao.__instance is None:\n",
        "            # Se a instância não existe, cria uma nova e armazena\n",
        "            GerenciadorDeImpressao.__instance = super().__new__(cls)\n",
        "        # Retorna a instância única existente ou a nova instância criada\n",
        "        return GerenciadorDeImpressao.__instance\n",
        "\n",
        "    def __init__(self):\n",
        "        # Passo 2 (parte 2): Inicialização segura para garantir que a fila de impressão seja inicializada apenas uma vez\n",
        "        if not hasattr(self, 'fila_impressao'):\n",
        "            # Inicializa a fila de impressão se ainda não foi inicializada\n",
        "            self.fila_impressao = []\n",
        "\n",
        "    # Passo 3: Método para adicionar documentos à fila de impressão\n",
        "    def adicionar_documento(self, documento):\n",
        "        self.fila_impressao.append(documento)\n",
        "\n",
        "    # Passo 3: Método para remover documentos da fila de impressão\n",
        "    def remover_documento(self):\n",
        "        if self.fila_impressao:\n",
        "            return self.fila_impressao.pop(0)\n",
        "\n",
        "    # Passo 3: Método para mostrar os documentos na fila de impressão\n",
        "    def mostrar_fila(self):\n",
        "        print(\"Fila de Impressão Atual:\", self.fila_impressao)\n",
        "\n",
        "# Código para Testar a Implementação\n",
        "if __name__ == \"__main__\":\n",
        "    # Cria a primeira instância e adiciona documentos, demonstrando o Singleton em ação\n",
        "    impressora1 = GerenciadorDeImpressao()\n",
        "    impressora1.adicionar_documento(\"Documento1.pdf\")\n",
        "    impressora1.adicionar_documento(\"Documento2.pdf\")\n",
        "\n",
        "    # Cria uma segunda instância e usa para mostrar a fila, demonstrando que impressora1 e impressora2 são a mesma instância\n",
        "    impressora2 = GerenciadorDeImpressao()\n",
        "    impressora2.mostrar_fila()  # Mostra que os documentos adicionados por impressora1 estão presentes\n",
        "\n",
        "    # Usa a primeira instância para remover um documento e a segunda para mostrar a fila atualizada\n",
        "    impressora1.remover_documento()\n",
        "    impressora2.mostrar_fila()  # Mostra que a fila foi atualizada após a remoção do documento\n"
      ],
      "metadata": {
        "id": "4FuyCt1Au4Go"
      },
      "execution_count": null,
      "outputs": []
    }
  ]
}