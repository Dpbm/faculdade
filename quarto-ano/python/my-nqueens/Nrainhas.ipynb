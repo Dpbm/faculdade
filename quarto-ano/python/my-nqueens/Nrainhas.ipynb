{
  "nbformat": 4,
  "nbformat_minor": 0,
  "metadata": {
    "colab": {
      "provenance": []
    },
    "kernelspec": {
      "name": "python3",
      "display_name": "Python 3"
    },
    "language_info": {
      "name": "python"
    }
  },
  "cells": [
    {
      "cell_type": "markdown",
      "source": [
        "# Problema das N-Rainhas\n",
        "<p>Posicionar N rainhas em um tabuleiro NxN de tal forma que elas não se ataquem </p>\n",
        "<p>Versão: 1.0</p>\n",
        "<p>Data: 17.04.2025</p>"
      ],
      "metadata": {
        "id": "raKgTkKAY4S5"
      }
    },
    {
      "cell_type": "code",
      "source": [
        "# Representar e gerar tabuleiro\n",
        "def geraTabulerio(tamanho):\n",
        "  if tamanho < 4 : return [-1] # tabuleiro deve ter no minimo 2 casas\n",
        "  tabuleiro = [] # gera o tabuleiro\n",
        "  for i in range(tamanho): # para cada linha do tabuleiro\n",
        "    tabuleiro.append([]) # adiciona uma linha vazia\n",
        "    for j in range(tamanho): # para cada coluno dessa linha\n",
        "      tabuleiro[i].append(0) # adiciona o valor 0\n",
        "  for i in range(tamanho): # para cada linha to tabuleiro\n",
        "    tabuleiro[i][0] = 1 # colocar o valor 1 na coluna 0\n",
        "  return tabuleiro # retorna o tabuleiro"
      ],
      "metadata": {
        "id": "gh05O7UAZJFy"
      },
      "execution_count": null,
      "outputs": []
    },
    {
      "cell_type": "code",
      "source": [
        "print(geraTabulerio(6))"
      ],
      "metadata": {
        "colab": {
          "base_uri": "https://localhost:8080/"
        },
        "id": "HDYjoDNNalaH",
        "outputId": "438ddccb-f0ff-4b92-a535-c9b67f9f0615"
      },
      "execution_count": null,
      "outputs": [
        {
          "output_type": "stream",
          "name": "stdout",
          "text": [
            "[[1, 0, 0, 0, 0, 0], [1, 0, 0, 0, 0, 0], [1, 0, 0, 0, 0, 0], [1, 0, 0, 0, 0, 0], [1, 0, 0, 0, 0, 0], [1, 0, 0, 0, 0, 0]]\n"
          ]
        }
      ]
    },
    {
      "cell_type": "code",
      "source": [
        "# Função para printar o tabuleiro de forma mais harmonica\n",
        "def printTabuleiro(tab):\n",
        "  for i in range(len(tab)):\n",
        "    print(tab[i])"
      ],
      "metadata": {
        "id": "gPv2b3XdcQsV"
      },
      "execution_count": null,
      "outputs": []
    },
    {
      "cell_type": "code",
      "source": [
        "printTabuleiro(geraTabulerio(8))"
      ],
      "metadata": {
        "colab": {
          "base_uri": "https://localhost:8080/"
        },
        "id": "PPzozqM3coTE",
        "outputId": "0087929b-41b0-4969-9261-e48233dd7f99"
      },
      "execution_count": null,
      "outputs": [
        {
          "output_type": "stream",
          "name": "stdout",
          "text": [
            "[1, 0, 0, 0, 0, 0, 0, 0]\n",
            "[1, 0, 0, 0, 0, 0, 0, 0]\n",
            "[1, 0, 0, 0, 0, 0, 0, 0]\n",
            "[1, 0, 0, 0, 0, 0, 0, 0]\n",
            "[1, 0, 0, 0, 0, 0, 0, 0]\n",
            "[1, 0, 0, 0, 0, 0, 0, 0]\n",
            "[1, 0, 0, 0, 0, 0, 0, 0]\n",
            "[1, 0, 0, 0, 0, 0, 0, 0]\n"
          ]
        }
      ]
    }
  ]
}