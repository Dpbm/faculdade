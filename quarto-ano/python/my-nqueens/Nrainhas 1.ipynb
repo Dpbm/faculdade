{
  "cells": [
    {
      "cell_type": "markdown",
      "metadata": {
        "id": "raKgTkKAY4S5"
      },
      "source": [
        "# Problema das N-Rainhas\n",
        "<p>Posicionar N rainhas em um tabuleiro NxN de tal forma que elas não se ataquem </p>\n",
        "<p>Versão: 1.0</p>\n",
        "<p>Data: 17.04.2025</p>"
      ]
    },
    {
      "cell_type": "code",
      "execution_count": 1,
      "metadata": {
        "id": "Te9_Dx1o-cM_"
      },
      "outputs": [],
      "source": [
        "# Importar bibliotecas necessárias\n",
        "\n",
        "import matplotlib.pyplot as plt\n",
        "import math\n",
        "import random\n",
        "import copy\n"
      ]
    },
    {
      "cell_type": "code",
      "execution_count": 2,
      "metadata": {
        "id": "gh05O7UAZJFy"
      },
      "outputs": [],
      "source": [
        "# Representar e gerar tabuleiro\n",
        "def geraTabulerio(tamanho):\n",
        "  if tamanho < 4 : return [-1] # tabuleiro deve ter no minimo 2 casas\n",
        "  tabuleiro = [] # gera o tabuleiro\n",
        "  for i in range(tamanho): # para cada linha do tabuleiro\n",
        "    tabuleiro.append([]) # adiciona uma linha vazia\n",
        "    for j in range(tamanho): # para cada coluno dessa linha\n",
        "      tabuleiro[i].append(0) # adiciona o valor 0\n",
        "  for i in range(tamanho): # para cada linha to tabuleiro\n",
        "    tabuleiro[i][0] = 1 # colocar o valor 1 na coluna 0\n",
        "  return tabuleiro # retorna o tabuleiro"
      ]
    },
    {
      "cell_type": "code",
      "execution_count": 3,
      "metadata": {
        "colab": {
          "base_uri": "https://localhost:8080/"
        },
        "id": "HDYjoDNNalaH",
        "outputId": "5770c88f-fb92-4cef-daaf-83b5811ce8b4"
      },
      "outputs": [
        {
          "name": "stdout",
          "output_type": "stream",
          "text": [
            "[[1, 0, 0, 0, 0, 0], [1, 0, 0, 0, 0, 0], [1, 0, 0, 0, 0, 0], [1, 0, 0, 0, 0, 0], [1, 0, 0, 0, 0, 0], [1, 0, 0, 0, 0, 0]]\n"
          ]
        }
      ],
      "source": [
        "print(geraTabulerio(6))"
      ]
    },
    {
      "cell_type": "code",
      "execution_count": 4,
      "metadata": {
        "id": "gPv2b3XdcQsV"
      },
      "outputs": [],
      "source": [
        "# Função para printar o tabuleiro de forma mais harmonica\n",
        "def printTabuleiro(tab):\n",
        "  for i in range(len(tab)):\n",
        "    print(tab[i])"
      ]
    },
    {
      "cell_type": "code",
      "execution_count": 5,
      "metadata": {
        "colab": {
          "base_uri": "https://localhost:8080/"
        },
        "id": "PPzozqM3coTE",
        "outputId": "475a634c-14f7-415c-d620-c1b976bc46b3"
      },
      "outputs": [
        {
          "name": "stdout",
          "output_type": "stream",
          "text": [
            "[1, 0, 0, 0]\n",
            "[1, 0, 0, 0]\n",
            "[1, 0, 0, 0]\n",
            "[1, 0, 0, 0]\n"
          ]
        }
      ],
      "source": [
        "printTabuleiro(geraTabulerio(4))"
      ]
    },
    {
      "cell_type": "code",
      "execution_count": 6,
      "metadata": {
        "id": "7Jpee5PHAJMG"
      },
      "outputs": [],
      "source": [
        "# Localizar Rainhas no tabuleiro\n",
        "def locateQueens(estado):\n",
        "  q = [] # vetor com as posições das rainhas\n",
        "  for i in range(len(estado)): # verifica cada linha\n",
        "    for j in range(len(estado)): # verifica cada coluna\n",
        "      if estado[i][j] == 1 : q.append((i,j)) # se a casa tiver o\n",
        "                                             # o valor 1, adiciona\n",
        "                                             # a posição i,j no vetor\n",
        "  return q # retorna o vertor com as posições das rainhas"
      ]
    },
    {
      "cell_type": "code",
      "execution_count": 7,
      "metadata": {
        "colab": {
          "base_uri": "https://localhost:8080/"
        },
        "id": "sxNBhT2gEnDa",
        "outputId": "5c6311aa-fa31-47ac-8a3d-26560610f294"
      },
      "outputs": [
        {
          "name": "stdout",
          "output_type": "stream",
          "text": [
            "[(0, 0), (1, 0), (2, 0), (3, 0)]\n"
          ]
        }
      ],
      "source": [
        "print(locateQueens(geraTabulerio(4)))"
      ]
    },
    {
      "cell_type": "code",
      "execution_count": 8,
      "metadata": {
        "id": "LSMJOg3eFUBp"
      },
      "outputs": [],
      "source": [
        "# Verificar quanto ataques existem no tabulerios\n",
        "def calAtaques(estado):\n",
        "  at = 0 # inicia a contagem com 0 ataques\n",
        "  atlinhas = 0 # inicia a verificação de ataques em linhas\n",
        "  # ataques em linhas\n",
        "  for i in estado: # para cada linha no tabuleiro\n",
        "    if sum(i)>1: # verifica se a soma da linha é maior que 1\n",
        "      atlinhas += sum(i)-1 # se for adiciona o valor da soma a atlinhas\n",
        "  at += atlinhas # adiciona o valor de atlinhas a at\n",
        "\n",
        "  # ataques em colunas\n",
        "  atcolunas = 0 # inicia a verificação de ataques em colunas\n",
        "  for c in range(len(estado)):\n",
        "    nl = 0\n",
        "    for l in range(len(estado)): nl += estado[l][c]\n",
        "    if nl>1: atcolunas += nl - 1\n",
        "  at += atcolunas # adiciona o valor de atcolunas a at\n",
        "\n",
        "  # ataques nas diagonais\n",
        "  pr = locateQueens(estado)\n",
        "  d = 0\n",
        "  for p, coords in enumerate(pr):\n",
        "    i,j = coords\n",
        "    # diagonal esquerda\n",
        "    k,w = i+1, j-1\n",
        "    while (w>=0 and k<len(estado)):\n",
        "      if estado[k][w] == 1:\n",
        "        d+=1\n",
        "        break\n",
        "      w-=1\n",
        "      k+=1\n",
        "    # diagonal direita\n",
        "    l,c = i+1, j+1\n",
        "    while(l< len(estado) and c<len(estado)):\n",
        "      if estado[l][c] == 1:\n",
        "        d+=1\n",
        "        break\n",
        "      l+=1\n",
        "      c+=1\n",
        "  at += d\n",
        "  return at\n",
        "\n"
      ]
    },
    {
      "cell_type": "code",
      "execution_count": 9,
      "metadata": {
        "colab": {
          "base_uri": "https://localhost:8080/"
        },
        "id": "hO_K8XH-NGNK",
        "outputId": "62b3e497-dd57-4bba-9d63-a0a0f6ce93c3"
      },
      "outputs": [
        {
          "name": "stdout",
          "output_type": "stream",
          "text": [
            "4\n"
          ]
        }
      ],
      "source": [
        "print(calAtaques(geraTabulerio(5)))"
      ]
    },
    {
      "cell_type": "code",
      "execution_count": 10,
      "metadata": {
        "id": "sYZX7x3mOg2J"
      },
      "outputs": [],
      "source": [
        "# mover uma rainha aleatoria\n",
        "def moveRainhaAleatoria(estado, casa):\n",
        "  tam=len(estado)\n",
        "  while True:\n",
        "    i,j = random.choice(locateQueens(estado))\n",
        "    k = (j+casa)%tam\n",
        "    if estado[i][k] == 0:\n",
        "      estado[i][k], estado[i][j] = estado[i][j], estado[i][k]\n",
        "      break\n",
        "  return estado"
      ]
    },
    {
      "cell_type": "markdown",
      "metadata": {
        "id": "pt4qKU1XQVWg"
      },
      "source": []
    },
    {
      "cell_type": "code",
      "execution_count": 11,
      "metadata": {
        "colab": {
          "base_uri": "https://localhost:8080/"
        },
        "id": "rL6dTHykQ6WX",
        "outputId": "bc602c35-4bb1-4e86-82c8-348717bc069b"
      },
      "outputs": [
        {
          "name": "stdout",
          "output_type": "stream",
          "text": [
            "[1, 0, 0, 0]\n",
            "[1, 0, 0, 0]\n",
            "[0, 0, 1, 0]\n",
            "[1, 0, 0, 0]\n"
          ]
        }
      ],
      "source": [
        "printTabuleiro(moveRainhaAleatoria(geraTabulerio(4),2))"
      ]
    },
    {
      "cell_type": "code",
      "execution_count": 14,
      "metadata": {},
      "outputs": [],
      "source": [
        "def graficoAtaques(ataques):\n",
        "    x = range(len(ataques))\n",
        "    plt.plot(x,ataques)\n",
        "    plt.xlabel(\"iterações\")\n",
        "    plt.ylabel(\"Ataques Evitados\")\n",
        "    plt.title(\"Evolução dos ataques\")\n",
        "    plt.show()"
      ]
    },
    {
      "cell_type": "code",
      "execution_count": 15,
      "metadata": {},
      "outputs": [
        {
          "data": {
            "image/png": "[encoded data removed]",
            "text/plain": [
              "<Figure size 640x480 with 1 Axes>"
            ]
          },
          "metadata": {},
          "output_type": "display_data"
        }
      ],
      "source": [
        "graficoAtaques(list(range(1,6)))"
      ]
    },
    {
      "cell_type": "code",
      "execution_count": 31,
      "metadata": {},
      "outputs": [],
      "source": [
        "def buscaProfundidade(estado, casa, max):\n",
        "    ataques = []\n",
        "    n = len(estado[0])\n",
        "    maxAtaques = math.factorial(n)/(2*math.factorial(n-2))\n",
        "\n",
        "    i = 0\n",
        "    while i <= max:\n",
        "        atq = calAtaques(estado)\n",
        "        ataques.append(maxAtaques - atq)\n",
        "        if atq == 0:\n",
        "            print(\"Sucesso!\")\n",
        "            return ataques, estado\n",
        "        \n",
        "        estado = moveRainhaAleatoria(copy.deepcopy(estado), casa)\n",
        "        i += 1\n",
        "    \n",
        "    print(\"Falha!\")\n",
        "    return ataques, estado\n"
      ]
    },
    {
      "cell_type": "code",
      "execution_count": 58,
      "metadata": {},
      "outputs": [
        {
          "name": "stdout",
          "output_type": "stream",
          "text": [
            "Sucesso!\n",
            "[0, 0, 1, 0]\n",
            "[1, 0, 0, 0]\n",
            "[0, 0, 0, 1]\n",
            "[0, 1, 0, 0]\n"
          ]
        },
        {
          "data": {
            "image/png": "[encoded data removed]",
            "text/plain": [
              "<Figure size 640x480 with 1 Axes>"
            ]
          },
          "metadata": {},
          "output_type": "display_data"
        }
      ],
      "source": [
        "ataques, tab = buscaProfundidade(geraTabulerio(4), 1, 200)\n",
        "printTabuleiro(tab)\n",
        "graficoAtaques(ataques)"
      ]
    }
  ],
  "metadata": {
    "colab": {
      "provenance": []
    },
    "kernelspec": {
      "display_name": "Python 3",
      "name": "python3"
    },
    "language_info": {
      "codemirror_mode": {
        "name": "ipython",
        "version": 3
      },
      "file_extension": ".py",
      "mimetype": "text/x-python",
      "name": "python",
      "nbconvert_exporter": "python",
      "pygments_lexer": "ipython3",
      "version": "3.12.2"
    }
  },
  "nbformat": 4,
  "nbformat_minor": 0
}
