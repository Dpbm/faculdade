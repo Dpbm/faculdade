{
 "cells": [
  {
   "cell_type": "markdown",
   "id": "35e43aa6",
   "metadata": {},
   "source": [
    "# Atividade - Implementando Flyweight"
   ]
  },
  {
   "cell_type": "markdown",
   "id": "3a492acf",
   "metadata": {},
   "source": [
    "# Modelo padrão\n",
    "\n",
    "Aqui, será testado o modelo padrão sem o uso do Flyweight"
   ]
  },
  {
   "cell_type": "code",
   "execution_count": 2,
   "id": "e7d5c21a",
   "metadata": {},
   "outputs": [],
   "source": [
    "from abc import ABC,abstractmethod"
   ]
  },
  {
   "cell_type": "code",
   "execution_count": 3,
   "id": "fccf18e3",
   "metadata": {},
   "outputs": [],
   "source": [
    "class Geometry(ABC):\n",
    "    @abstractmethod\n",
    "    def draw(self):\n",
    "        pass"
   ]
  },
  {
   "cell_type": "code",
   "execution_count": 15,
   "id": "5378a18f",
   "metadata": {},
   "outputs": [],
   "source": [
    "class Circle(Geometry):\n",
    "    def __init__(self,color,radius):\n",
    "        self.color = color\n",
    "        self.radius = radius\n",
    "    def draw(self):\n",
    "        print(f\"Drawing a {self.color} circle of radius {self.radius}m\")"
   ]
  },
  {
   "cell_type": "code",
   "execution_count": 5,
   "id": "a026d369",
   "metadata": {},
   "outputs": [],
   "source": [
    "class Square(Geometry):\n",
    "    def __init__(self,color,side):\n",
    "        self.color = color\n",
    "        self.side = side\n",
    "    def draw(self):\n",
    "        print(f\"Drawing a {self.color} square of sides {self.side}m\")"
   ]
  },
  {
   "cell_type": "code",
   "execution_count": 13,
   "id": "a81e9146",
   "metadata": {},
   "outputs": [],
   "source": [
    "class Rectangle(Geometry):\n",
    "    def __init__(self,color,height,width):\n",
    "        self.color = color\n",
    "        self.height = height\n",
    "        self.width = width\n",
    "    def draw(self):\n",
    "        print(f\"Drawing a {self.color} rectangle of {self.height}x{self.width}m\")"
   ]
  },
  {
   "cell_type": "code",
   "execution_count": 7,
   "id": "66548ec8",
   "metadata": {},
   "outputs": [],
   "source": [
    "class Triangle(Geometry):\n",
    "    def __init__(self, color, height, base):\n",
    "        self.color = color\n",
    "        self.height = height\n",
    "        self.base = base\n",
    "    def draw(self):\n",
    "        print(f\"Drawing a {self.color} triangle of base {self.base}m and height {self.height}m\")"
   ]
  },
  {
   "cell_type": "code",
   "execution_count": 9,
   "id": "fceb6dbd",
   "metadata": {},
   "outputs": [],
   "source": [
    "class GeoemtryForms:\n",
    "    def __init__(self):\n",
    "        self.forms = []\n",
    "    def add_form(self, form):\n",
    "        self.forms.append(form)\n",
    "    def draw_all(self):\n",
    "        for form in self.forms:\n",
    "            form.draw()"
   ]
  },
  {
   "cell_type": "code",
   "execution_count": 16,
   "id": "65e55dd7",
   "metadata": {},
   "outputs": [
    {
     "name": "stdout",
     "output_type": "stream",
     "text": [
      "Drawing a red circle of radius 10m\n",
      "Drawing a blue circle of radius 2m\n",
      "Drawing a blue square of sides 20m\n",
      "Drawing a yellow square of sides 54m\n",
      "Drawing a yellow square of sides 54m\n",
      "Drawing a yellow rectangle of 54x32m\n",
      "Drawing a pink rectangle of 32x31m\n",
      "Drawing a cyan triangle of base 10m and height 32m\n"
     ]
    }
   ],
   "source": [
    "forms = GeoemtryForms()\n",
    "forms.add_form(Circle(\"red\", 10))\n",
    "forms.add_form(Circle(\"blue\", 2))\n",
    "forms.add_form(Square(\"blue\", 20))\n",
    "forms.add_form(Square(\"yellow\", 54))\n",
    "forms.add_form(Square(\"yellow\", 54))\n",
    "forms.add_form(Rectangle(\"yellow\", 54, 32))\n",
    "forms.add_form(Rectangle(\"pink\", 32, 31))\n",
    "forms.add_form(Triangle(\"cyan\", 32, 10))\n",
    "forms.draw_all()"
   ]
  },
  {
   "cell_type": "code",
   "execution_count": null,
   "id": "744518d7",
   "metadata": {},
   "outputs": [],
   "source": [
    "%%file profile.py\n"
   ]
  }
 ],
 "metadata": {
  "kernelspec": {
   "display_name": "Python 3",
   "language": "python",
   "name": "python3"
  },
  "language_info": {
   "codemirror_mode": {
    "name": "ipython",
    "version": 3
   },
   "file_extension": ".py",
   "mimetype": "text/x-python",
   "name": "python",
   "nbconvert_exporter": "python",
   "pygments_lexer": "ipython3",
   "version": "3.10.12"
  }
 },
 "nbformat": 4,
 "nbformat_minor": 5
}
