{
  "nbformat": 4,
  "nbformat_minor": 0,
  "metadata": {
    "colab": {
      "provenance": []
    },
    "kernelspec": {
      "name": "python3",
      "display_name": "Python 3"
    },
    "language_info": {
      "name": "python"
    }
  },
  "cells": [
    {
      "cell_type": "markdown",
      "source": [
        "# **Criando uma Classe, Definindo Atributos e Métodos**\n",
        "## **Exemplo**: Um sistema para gerenciar um time de eSports."
      ],
      "metadata": {
        "id": "COMYW4R0H5RL"
      }
    },
    {
      "cell_type": "code",
      "execution_count": null,
      "metadata": {
        "id": "05NRhRhvHOvK",
        "colab": {
          "base_uri": "https://localhost:8080/"
        },
        "outputId": "3fc55186-a6c7-47c6-fe59-d9add564b76f"
      },
      "outputs": [
        {
          "output_type": "stream",
          "name": "stdout",
          "text": [
            "Jogador: Shadow, Função: Atirador, Nível: 5\n",
            "Jogador: Phoenix, Função: Suporte, Nível: 3\n",
            "Shadow subiu para o nível 6!\n",
            "Phoenix subiu para o nível 4!\n"
          ]
        }
      ],
      "source": [
        "class Jogador:\n",
        "    def __init__(self, nickname, funcao, nivel):\n",
        "        self.nickname = nickname\n",
        "        self.funcao = funcao\n",
        "        self.nivel = nivel\n",
        "\n",
        "    def subir_nivel(self):\n",
        "        self.nivel += 1\n",
        "        print(f\"{self.nickname} subiu para o nível {self.nivel}!\")\n",
        "\n",
        "    def __str__(self):\n",
        "        return f\"Jogador: {self.nickname}, Função: {self.funcao}, Nível: {self.nivel}\"\n",
        "\n",
        "# Criando objetos (instanciando a classe)\n",
        "jogador1 = Jogador(\"Shadow\", \"Atirador\", 5)\n",
        "jogador2 = Jogador(\"Phoenix\", \"Suporte\", 3)\n",
        "\n",
        "# Chamando métodos\n",
        "print(jogador1)\n",
        "print(jogador2)\n",
        "jogador1.subir_nivel()\n",
        "jogador2.subir_nivel()\n"
      ]
    },
    {
      "cell_type": "markdown",
      "source": [
        "# **Criando uma Classe com Métodos Especiais**\n",
        "## **Exemplo**: Gerenciador de playlist de música."
      ],
      "metadata": {
        "id": "K_g81L7KMqAU"
      }
    },
    {
      "cell_type": "code",
      "source": [
        "class Musica:\n",
        "    def __init__(self, titulo, artista):\n",
        "        self.titulo = titulo\n",
        "        self.artista = artista\n",
        "\n",
        "\n",
        "    def __repr__(self):\n",
        "        return f\"{self.titulo} - {self.artista} \"\n",
        "\n",
        "class Playlist:\n",
        "    def __init__(self, nome):\n",
        "        self.nome = nome\n",
        "        self.musicas = []\n",
        "\n",
        "    def adicionar_musica(self,musica):\n",
        "        self.musicas.append(musica)\n",
        "        print(f\"Música '{musica.titulo}' adicionada à playlist '{self.nome}'.\")\n",
        "\n",
        "    def mostrar_playlist(self):\n",
        "        print(f\"\\nPlaylist: {self.nome}\")\n",
        "        for musica in self.musicas:\n",
        "            print(musica)\n",
        "\n",
        "# Criando playlist\n",
        "minha_playlist = Playlist(\"Treino Pesado\")\n",
        "\n",
        "# Criando músicas\n",
        "musica1 = Musica(\"Lose Yourself\", \"Eminem\")\n",
        "musica2 = Musica(\"Bohemian Rhapsody\", \"Queen\")\n",
        "\n",
        "# Adicionando músicas\n",
        "minha_playlist.adicionar_musica(musica1)\n",
        "minha_playlist.adicionar_musica(musica2)\n",
        "\n",
        "# Exibindo playlist\n",
        "minha_playlist.mostrar_playlist()"
      ],
      "metadata": {
        "id": "h7FwyjINM2SH",
        "colab": {
          "base_uri": "https://localhost:8080/"
        },
        "outputId": "8dd4b912-510c-4a19-881d-e140443d7fc3"
      },
      "execution_count": null,
      "outputs": [
        {
          "output_type": "stream",
          "name": "stdout",
          "text": [
            "Música 'Lose Yourself' adicionada à playlist 'Treino Pesado'.\n",
            "Música 'Bohemian Rhapsody' adicionada à playlist 'Treino Pesado'.\n",
            "\n",
            "Playlist: Treino Pesado\n",
            "Lose Yourself - Eminem \n",
            "Bohemian Rhapsody - Queen \n"
          ]
        }
      ]
    },
    {
      "cell_type": "markdown",
      "source": [
        "# **Simulação de Um Sistema de Pedidos de Pizza**\n",
        "## **Exemplo**: Criando uma pizzaria com diferentes sabores."
      ],
      "metadata": {
        "id": "dZ9m404ZNdJi"
      }
    },
    {
      "cell_type": "code",
      "source": [
        "class Pizza:\n",
        "    def __init__(self, sabor, tamanho):\n",
        "        self.sabor = sabor\n",
        "        self.tamanho = tamanho\n",
        "\n",
        "    def __str__(self):\n",
        "        return f\"Pizza de {self.sabor} ({self.tamanho})\"\n",
        "\n",
        "class Pedido:\n",
        "    def __init__(self):\n",
        "        self.pizzas = []\n",
        "\n",
        "    def adicionar_pizza(self, pizza):\n",
        "        self.pizzas.append(pizza)\n",
        "        print(f\"{pizza} adicionada ao pedido!\")\n",
        "\n",
        "    def fechar_pedido(self):\n",
        "        print(\"\\nResumo do Pedido:\")\n",
        "        for pizza in self.pizzas:\n",
        "            print(pizza)\n",
        "        print(\"Pedido finalizado!\")\n",
        "\n",
        "# Criando pedidos\n",
        "meu_pedido = Pedido()\n",
        "calabresa = Pizza(\"Calabresa\", \"Média\")\n",
        "quatro_queijos = Pizza(\"Quatro Queijos\", \"Grande\")\n",
        "\n",
        "meu_pedido.adicionar_pizza(calabresa)\n",
        "meu_pedido.adicionar_pizza(quatro_queijos)\n",
        "\n",
        "meu_pedido.fechar_pedido()"
      ],
      "metadata": {
        "id": "PCwl0m0mNi86",
        "colab": {
          "base_uri": "https://localhost:8080/"
        },
        "outputId": "8fce29d8-9f12-4583-affb-eecb184bfff7"
      },
      "execution_count": null,
      "outputs": [
        {
          "output_type": "stream",
          "name": "stdout",
          "text": [
            "Pizza de Calabresa (Média) adicionada ao pedido!\n",
            "Pizza de Quatro Queijos (Grande) adicionada ao pedido!\n",
            "\n",
            "Resumo do Pedido:\n",
            "Pizza de Calabresa (Média)\n",
            "Pizza de Quatro Queijos (Grande)\n",
            "Pedido finalizado!\n"
          ]
        }
      ]
    },
    {
      "cell_type": "markdown",
      "source": [
        "# **Protegendo Dados Sensíveis (Encapsulamento com Atributos Privados)**\n",
        "## **Exemplo**: Simulação de um banco digital, onde o saldo de uma conta bancária é protegido e só pode ser acessado por métodos públicos."
      ],
      "metadata": {
        "id": "dkokhEYzJikC"
      }
    },
    {
      "cell_type": "code",
      "source": [
        "class ContaBancaria:\n",
        "    def __init__(self, titular, saldo):\n",
        "        self.titular = titular\n",
        "        self.__saldo = saldo  # Atributo privado (uso de \"__\" antes do nome)\n",
        "\n",
        "    def depositar(self, valor):\n",
        "        if valor > 0:\n",
        "            self.__saldo += valor\n",
        "            print(f\"Depósito de R${valor:.2f} realizado com sucesso!\")\n",
        "        else:\n",
        "            print(\"Valor inválido para depósito.\")\n",
        "\n",
        "    def sacar(self, valor):\n",
        "        if 0 < valor <= self.__saldo:\n",
        "            self.__saldo -= valor\n",
        "            print(f\"Saque de R${valor:.2f} realizado!\")\n",
        "        else:\n",
        "            print(\"Saldo insuficiente ou valor inválido.\")\n",
        "\n",
        "    def verificar_saldo(self):\n",
        "        return f\"Saldo atual de {self.titular}: R${self.__saldo:.2f}\"\n",
        "\n",
        "# Criando conta\n",
        "conta = ContaBancaria(\"Carlos\", 1000)\n",
        "\n",
        "# Tentando acessar saldo diretamente (não permitido)\n",
        "#print(conta.__saldo)  # Isso gera erro!\n",
        "\n",
        "conta.__saldo = 0\n",
        "print(conta.__saldo)\n",
        "\n",
        "# Usando os métodos públicos\n",
        "conta.depositar(500)\n",
        "conta.sacar(300)\n",
        "print(conta.verificar_saldo())"
      ],
      "metadata": {
        "id": "uCbrMDpyKvuJ",
        "colab": {
          "base_uri": "https://localhost:8080/"
        },
        "outputId": "6d200d92-2294-4e5c-a7ac-2ccc421c780d"
      },
      "execution_count": null,
      "outputs": [
        {
          "output_type": "stream",
          "name": "stdout",
          "text": [
            "0\n",
            "Depósito de R$500.00 realizado com sucesso!\n",
            "Saque de R$300.00 realizado!\n",
            "Saldo atual de Carlos: R$1200.00\n"
          ]
        }
      ]
    },
    {
      "cell_type": "markdown",
      "source": [
        "# **Controlando o Acesso com Getters e Setters**\n",
        "## **Exemplo**: Criando um sistema de acesso a um cofre digital, onde a senha deve ser validada antes de ser alterada."
      ],
      "metadata": {
        "id": "09A5QF0MN58I"
      }
    },
    {
      "cell_type": "code",
      "source": [
        "class Cofre:\n",
        "    def __init__(self, senha):\n",
        "        self.__senha = senha  # Atributo privado\n",
        "\n",
        "    def get_senha(self):\n",
        "        return \"*\" * len(self.__senha)  # Retorna apenas um placeholder da senha\n",
        "\n",
        "    def set_senha(self, antiga, nova):\n",
        "        if antiga == self.__senha:\n",
        "            self.__senha = nova\n",
        "            print(\"Senha alterada com sucesso!\")\n",
        "        else:\n",
        "            print(\"Senha antiga incorreta! A alteração foi negada.\")\n",
        "\n",
        "# Criando um cofre\n",
        "meu_cofre = Cofre(\"segredo123\")\n",
        "\n",
        "# Tentando acessar a senha diretamente (não permitido)\n",
        "#print(meu_cofre.__senha)  # Isso gera erro!\n",
        "\n",
        "# Obtendo a senha de forma segura\n",
        "print(\"Senha armazenada:\", meu_cofre.get_senha())\n",
        "\n",
        "# Tentando alterar a senha\n",
        "meu_cofre.set_senha(\"senhaerrada\", \"novaSenha456\")  # Falha\n",
        "meu_cofre.set_senha(\"segredo123\", \"novaSenha456\")  # Sucesso"
      ],
      "metadata": {
        "id": "rEb8hl21OB9c",
        "colab": {
          "base_uri": "https://localhost:8080/"
        },
        "outputId": "78e6f1b9-b9f5-4bb4-8480-6c7b5ebeeee8"
      },
      "execution_count": null,
      "outputs": [
        {
          "output_type": "stream",
          "name": "stdout",
          "text": [
            "Senha armazenada: **********\n",
            "Senha antiga incorreta! A alteração foi negada.\n",
            "Senha alterada com sucesso!\n"
          ]
        }
      ]
    },
    {
      "cell_type": "markdown",
      "source": [
        "# **Controlando Dados em um Jogo**\n",
        "## **Exemplo**: Criando um personagem de RPG, onde o nível do jogador não pode ser alterado diretamente, apenas por meio de progressão no jogo."
      ],
      "metadata": {
        "id": "ZloLvu2WOX7W"
      }
    },
    {
      "cell_type": "code",
      "source": [
        "class Personagem:\n",
        "    def __init__(self, nome, nivel=1):\n",
        "        self.nome = nome\n",
        "        self.__nivel = nivel  # Nível privado\n",
        "\n",
        "    def get_nivel(self):\n",
        "        return self.__nivel  # Getter para acessar o nível\n",
        "\n",
        "    def subir_de_nivel(self, pontos):\n",
        "        if pontos > 0:\n",
        "            self.__nivel += pontos\n",
        "            print(f\"{self.nome} subiu para o nível {self.__nivel}!\")\n",
        "        else:\n",
        "            print(\"Os pontos devem ser positivos!\")\n",
        "\n",
        "# Criando personagem\n",
        "heroi = Personagem(\"Aragorn\")\n",
        "\n",
        "# Tentando alterar diretamente (não permitido)\n",
        "#heroi.__nivel = 99  # Isso gera erro!\n",
        "#print(heroi.__nivel)\n",
        "\n",
        "# Obtendo nível via getter\n",
        "print(f\"Nível atual: {heroi.get_nivel()}\")\n",
        "\n",
        "# Evoluindo o personagem corretamente\n",
        "heroi.subir_de_nivel(2)"
      ],
      "metadata": {
        "id": "5PFqEj5gOhtt",
        "colab": {
          "base_uri": "https://localhost:8080/"
        },
        "outputId": "21c5784c-acad-42b4-ec14-66de80a744d8"
      },
      "execution_count": null,
      "outputs": [
        {
          "output_type": "stream",
          "name": "stdout",
          "text": [
            "99\n",
            "Nível atual: 1\n",
            "Aragorn subiu para o nível 3!\n"
          ]
        }
      ]
    },
    {
      "cell_type": "markdown",
      "source": [
        "# **Herança no Mundo dos Games 🎮**\n",
        "\n",
        "## **Exemplo**: Criando um sistema de personagens de um jogo RPG, onde diferentes classes de personagens herdam atributos e métodos de uma classe base."
      ],
      "metadata": {
        "id": "qb_hlX02UR52"
      }
    },
    {
      "cell_type": "code",
      "source": [
        "class Personagem:\n",
        "    def __init__(self, nome, vida, ataque):\n",
        "        self.nome = nome\n",
        "        self.vida = vida\n",
        "        self.ataque = ataque\n",
        "\n",
        "    def atacar(self):\n",
        "        return f\"{self.nome} ataca causando {self.ataque} de dano!\"\n",
        "\n",
        "# Classes específicas herdando de Personagem\n",
        "class Guerreiro(Personagem):\n",
        "    def __init__(self, nome):\n",
        "        super().__init__(nome, vida=150, ataque=20)\n",
        "\n",
        "    def usar_espada(self):\n",
        "        return f\"{self.nome} usa sua espada para um ataque poderoso!\"\n",
        "\n",
        "class Mago(Personagem):\n",
        "    def __init__(self, nome):\n",
        "        super().__init__(nome, vida=100, ataque=25)\n",
        "\n",
        "    def lancar_magia(self):\n",
        "        return f\"{self.nome} lança uma bola de fogo!\"\n",
        "\n",
        "# Criando personagens\n",
        "aragorn = Guerreiro(\"Aragorn\")\n",
        "gandalf = Mago(\"Gandalf\")\n",
        "\n",
        "# Testando os métodos herdados e específicos\n",
        "print(aragorn.atacar())  # Método herdado\n",
        "print(aragorn.usar_espada())  # Método específico\n",
        "#print(aragorn.lancar_magia())\n",
        "\n",
        "print(gandalf.atacar())  # Método herdado\n",
        "print(gandalf.lancar_magia())  # Método específico\n",
        "\n",
        "#print(gandalf.usar_espada())"
      ],
      "metadata": {
        "id": "HFzAc5TUUnqD",
        "colab": {
          "base_uri": "https://localhost:8080/"
        },
        "outputId": "341c6e27-ce3f-48e0-ccc8-7484c8f1f6a5"
      },
      "execution_count": null,
      "outputs": [
        {
          "output_type": "stream",
          "name": "stdout",
          "text": [
            "Aragorn ataca causando 20 de dano!\n",
            "Aragorn usa sua espada para um ataque poderoso!\n",
            "Gandalf ataca causando 25 de dano!\n",
            "Gandalf lança uma bola de fogo!\n"
          ]
        }
      ]
    },
    {
      "cell_type": "markdown",
      "source": [
        "# **Herança no Mundo dos Veículos 🚗**\n",
        "## **Exemplo**: Criando uma hierarquia de veículos, onde diferentes tipos herdam atributos e métodos de um veículo base."
      ],
      "metadata": {
        "id": "sRl5Hq-KZrD7"
      }
    },
    {
      "cell_type": "code",
      "source": [
        "class Veiculo:\n",
        "    def __init__(self, marca, modelo, ano):\n",
        "        self.marca = marca\n",
        "        self.modelo = modelo\n",
        "        self.ano = ano\n",
        "\n",
        "    def descrever(self):\n",
        "        return f\"{self.marca} {self.modelo}, Ano {self.ano}\"\n",
        "\n",
        "class Carro(Veiculo):\n",
        "    def __init__(self, marca, modelo, ano, portas):\n",
        "        super().__init__(marca, modelo, ano)\n",
        "        self.portas = portas\n",
        "\n",
        "    def buzinar(self):\n",
        "        return \"Bii Bii! 🚗\"\n",
        "\n",
        "class Moto(Veiculo):\n",
        "    def __init__(self, marca, modelo, ano, cilindradas):\n",
        "        super().__init__(marca, modelo, ano)\n",
        "        self.cilindradas = cilindradas\n",
        "\n",
        "    def empinar(self):\n",
        "        return \"Olha a moto empinando! 🏍️\"\n",
        "\n",
        "# Criando instâncias\n",
        "meu_carro = Carro(\"Toyota\", \"Corolla\", 2022, 4)\n",
        "minha_moto = Moto(\"Honda\", \"CBR 600\", 2021, 600)\n",
        "\n",
        "# Testando\n",
        "print(meu_carro.descrever())\n",
        "print(meu_carro.buzinar())\n",
        "\n",
        "print(minha_moto.descrever())\n",
        "print(minha_moto.empinar())"
      ],
      "metadata": {
        "colab": {
          "base_uri": "https://localhost:8080/"
        },
        "id": "jEIBWWR0aH1C",
        "outputId": "e3d05301-619e-4e6c-c358-e230dd02c280"
      },
      "execution_count": null,
      "outputs": [
        {
          "output_type": "stream",
          "name": "stdout",
          "text": [
            "Toyota Corolla, Ano 2022\n",
            "Bii Bii! 🚗\n",
            "Honda CBR 600, Ano 2021\n",
            "Olha a moto empinando! 🏍️\n"
          ]
        }
      ]
    },
    {
      "cell_type": "markdown",
      "source": [
        "# **Herança no Mundo dos Pets 🐶🐱**\n",
        "## **Exemplo**: Criando um sistema de pets onde diferentes animais herdam características de uma classe base."
      ],
      "metadata": {
        "id": "17daxDp9acCn"
      }
    },
    {
      "cell_type": "code",
      "source": [
        "class Animal:\n",
        "    def __init__(self, nome, especie):\n",
        "        self.nome = nome\n",
        "        self.especie = especie\n",
        "\n",
        "    def emitir_som(self):\n",
        "        return \"Som genérico de animal\"\n",
        "\n",
        "class Cachorro(Animal):\n",
        "    def __init__(self, nome):\n",
        "        super().__init__(nome, \"Cachorro\")\n",
        "\n",
        "    def emitir_som(self):\n",
        "        return \"Au au! 🐶\"\n",
        "\n",
        "class Gato(Animal):\n",
        "    def __init__(self, nome):\n",
        "        super().__init__(nome, \"Gato\")\n",
        "\n",
        "    def emitir_som(self):\n",
        "        return \"Miau! 🐱\"\n",
        "\n",
        "# Criando animais\n",
        "caramelo = Cachorro(\"Caramelo\")\n",
        "mingau = Gato(\"Mingau\")\n",
        "\n",
        "# Testando métodos herdados e sobrescritos\n",
        "print(f\"{caramelo.nome} é um {caramelo.especie} e faz: {caramelo.emitir_som()}\")\n",
        "print(f\"{mingau.nome} é um {mingau.especie} e faz: {mingau.emitir_som()}\")"
      ],
      "metadata": {
        "colab": {
          "base_uri": "https://localhost:8080/"
        },
        "id": "Ia8QqAk1azf3",
        "outputId": "873f1390-33b1-4372-f5f1-4aaea474c9c3"
      },
      "execution_count": null,
      "outputs": [
        {
          "output_type": "stream",
          "name": "stdout",
          "text": [
            "Caramelo é um Cachorro e faz: Au au! 🐶\n",
            "Mingau é um Gato e faz: Som genérico de animal\n"
          ]
        }
      ]
    },
    {
      "cell_type": "markdown",
      "source": [
        "# **🦁 Exemplo: Mundo Pet Interativo**\n",
        "## **Objetivo**: Demonstrar **polimorfismo** permitindo que objetos de diferentes classes (Cachorro, Gato e Papagaio) sejam tratados como um objeto de uma classe comum (Animal)."
      ],
      "metadata": {
        "id": "tchIL1eedcCP"
      }
    },
    {
      "cell_type": "code",
      "source": [
        "# Classe base\n",
        "class Animal:\n",
        "    def fazer_som(self):\n",
        "        pass  # Método abstrato, será implementado nas subclasses\n",
        "\n",
        "# Classes específicas que herdam de Animal\n",
        "class Cachorro(Animal):\n",
        "    def fazer_som(self):\n",
        "        return \"Au au! 🐶\"\n",
        "\n",
        "class Gato(Animal):\n",
        "    def fazer_som(self):\n",
        "        return \"Miau! 🐱\"\n",
        "\n",
        "class Papagaio(Animal):\n",
        "    def fazer_som(self):\n",
        "        return \"Olá! 🦜\"\n",
        "\n",
        "# Função polimórfica\n",
        "def mundo_pet_interativo(animais):\n",
        "    for animal in animais:\n",
        "        print(f\"O {animal.__class__.__name__} faz: {animal.fazer_som()}\")\n",
        "\n",
        "# Criando objetos diferentes\n",
        "caramelo = Cachorro()\n",
        "mingau = Gato()\n",
        "louro_jose = Papagaio()\n",
        "\n",
        "# Tratando todos como \"Animais\"\n",
        "pets_de_casa = [caramelo, mingau, louro_jose]\n",
        "mundo_pet_interativo(pets_de_casa)"
      ],
      "metadata": {
        "id": "tTih1IAndnNX",
        "colab": {
          "base_uri": "https://localhost:8080/"
        },
        "outputId": "ccfd5b4d-d0fc-4ff5-a3a6-86a219c2bdd6"
      },
      "execution_count": null,
      "outputs": [
        {
          "output_type": "stream",
          "name": "stdout",
          "text": [
            "O Cachorro faz: Au au! 🐶\n",
            "O Gato faz: Miau! 🐱\n",
            "O Papagaio faz: Olá! 🦜\n"
          ]
        }
      ]
    },
    {
      "cell_type": "markdown",
      "source": [
        "# **Associação Simples: Personagem e Arma**\n",
        "## **Definição**: Um objeto pode usar outro sem que haja uma dependência forte entre eles.\n"
      ],
      "metadata": {
        "id": "cZ-unHbdgZO_"
      }
    },
    {
      "cell_type": "code",
      "source": [
        "class Arma:\n",
        "    def __init__(self, nome):\n",
        "        self.nome = nome\n",
        "\n",
        "    def usar(self):\n",
        "        return f\"Usando {self.nome} para atacar!\"\n",
        "\n",
        "class Personagem:\n",
        "    def __init__(self, nome):\n",
        "        self.nome = nome\n",
        "\n",
        "    def atacar(self, arma):\n",
        "        return f\"{self.nome} ataca! {arma.usar()}\"\n",
        "\n",
        "# Criando objetos separadamente\n",
        "espada = Arma(\"Espada Lendária\")\n",
        "guerreiro = Personagem(\"Arthur\")\n",
        "\n",
        "# Associação simples: O personagem usa a arma, mas não a \"possui\"\n",
        "print(guerreiro.atacar(espada))"
      ],
      "metadata": {
        "id": "pFyidUfUgr3n",
        "colab": {
          "base_uri": "https://localhost:8080/"
        },
        "outputId": "a4b4f665-e9ff-483a-f64a-084c05e9ff7b"
      },
      "execution_count": null,
      "outputs": [
        {
          "output_type": "stream",
          "name": "stdout",
          "text": [
            "Arthur ataca! Usando Espada Lendária para atacar!\n"
          ]
        }
      ]
    },
    {
      "cell_type": "markdown",
      "source": [
        "# **Agregação: Equipe e Personagens**\n",
        "## **Definição**: Um objeto contém uma coleção de outros objetos, mas os objetos podem existir independentemente dele."
      ],
      "metadata": {
        "id": "S3q4-yzqg3ek"
      }
    },
    {
      "cell_type": "code",
      "source": [
        "class Equipe:\n",
        "    def __init__(self, nome):\n",
        "        self.nome = nome\n",
        "        self.membros = []  # Lista de personagens\n",
        "\n",
        "    def adicionar_membro(self, personagem):\n",
        "        self.membros.append(personagem)\n",
        "\n",
        "    def mostrar_equipe(self):\n",
        "        return f\"Equipe {self.nome}: \" + \", \".join([m.nome for m in self.membros])\n",
        "\n",
        "# Criando personagens\n",
        "guerreiro = Personagem(\"Arthur\")\n",
        "arqueiro = Personagem(\"Legolas\")\n",
        "\n",
        "# Criando equipe e agregando personagens\n",
        "guilda = Equipe(\"Os Vingadores da Floresta\")\n",
        "guilda.adicionar_membro(guerreiro)\n",
        "guilda.adicionar_membro(arqueiro)\n",
        "\n",
        "print(guilda.mostrar_equipe())"
      ],
      "metadata": {
        "id": "iTSF2z9MhBbk",
        "colab": {
          "base_uri": "https://localhost:8080/"
        },
        "outputId": "d41522e9-080a-4092-afc0-9792a7702e58"
      },
      "execution_count": null,
      "outputs": [
        {
          "output_type": "stream",
          "name": "stdout",
          "text": [
            "Equipe Os Vingadores da Floresta: Arthur, Legolas\n"
          ]
        }
      ]
    },
    {
      "cell_type": "markdown",
      "source": [
        "# **Composição: Personagem e Inventário**\n",
        "## **Definição**: Um objeto contém outro objeto e controla seu ciclo de vida – se o objeto principal for destruído, os objetos internos também serão."
      ],
      "metadata": {
        "id": "xmiRLMukhK0Z"
      }
    },
    {
      "cell_type": "code",
      "source": [
        "class Inventario:\n",
        "    def __init__(self):\n",
        "        self.itens = []\n",
        "\n",
        "    def adicionar_item(self, item):\n",
        "        self.itens.append(item)\n",
        "\n",
        "    def mostrar_itens(self):\n",
        "        return \", \".join(self.itens) if self.itens else \"Vazio\"\n",
        "\n",
        "class PersonagemComInventario:\n",
        "    def __init__(self, nome):\n",
        "        self.nome = nome\n",
        "        self.inventario = Inventario()  # O inventário é criado junto com o personagem\n",
        "\n",
        "    def pegar_item(self, item):\n",
        "        self.inventario.adicionar_item(item)\n",
        "\n",
        "    def mostrar_inventario(self):\n",
        "        return f\"Inventário de {self.nome}: {self.inventario.mostrar_itens()}\"\n",
        "\n",
        "# Criando personagem com inventário próprio\n",
        "mago = PersonagemComInventario(\"Gandalf\")\n",
        "mago.pegar_item(\"Poção de Mana\")\n",
        "mago.pegar_item(\"Bastão Mágico\")\n",
        "\n",
        "print(mago.mostrar_inventario())"
      ],
      "metadata": {
        "colab": {
          "base_uri": "https://localhost:8080/"
        },
        "id": "IfimnmqWhs_i",
        "outputId": "497de8e3-3643-4287-d254-f52f13f2dbcd"
      },
      "execution_count": null,
      "outputs": [
        {
          "output_type": "stream",
          "name": "stdout",
          "text": [
            "Inventário de Gandalf: Poção de Mana, Bastão Mágico\n"
          ]
        }
      ]
    }
  ]
}